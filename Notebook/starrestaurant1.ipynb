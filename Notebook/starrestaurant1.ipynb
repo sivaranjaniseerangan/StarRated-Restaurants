{
 "cells": [
  {
   "cell_type": "markdown",
   "id": "bb267caa",
   "metadata": {},
   "source": [
    "# STAR RATED RESTAURANTS"
   ]
  },
  {
   "cell_type": "code",
   "execution_count": 191,
   "id": "fff7f211",
   "metadata": {},
   "outputs": [],
   "source": [
    "import numpy as np\n",
    "import pandas as pd\n",
    "import matplotlib.pyplot as plt\n",
    "import seaborn as sns"
   ]
  },
  {
   "cell_type": "code",
   "execution_count": 192,
   "id": "ade153f1",
   "metadata": {},
   "outputs": [],
   "source": [
    "data=pd.read_excel('data1.xlsx')"
   ]
  },
  {
   "cell_type": "code",
   "execution_count": 193,
   "id": "67d9d156",
   "metadata": {},
   "outputs": [
    {
     "data": {
      "text/html": [
       "<div>\n",
       "<style scoped>\n",
       "    .dataframe tbody tr th:only-of-type {\n",
       "        vertical-align: middle;\n",
       "    }\n",
       "\n",
       "    .dataframe tbody tr th {\n",
       "        vertical-align: top;\n",
       "    }\n",
       "\n",
       "    .dataframe thead th {\n",
       "        text-align: right;\n",
       "    }\n",
       "</style>\n",
       "<table border=\"1\" class=\"dataframe\">\n",
       "  <thead>\n",
       "    <tr style=\"text-align: right;\">\n",
       "      <th></th>\n",
       "      <th>Restaurant ID</th>\n",
       "      <th>Restaurant Name</th>\n",
       "      <th>Country Code</th>\n",
       "      <th>City</th>\n",
       "      <th>Address</th>\n",
       "      <th>Locality</th>\n",
       "      <th>Locality Verbose</th>\n",
       "      <th>Longitude</th>\n",
       "      <th>Latitude</th>\n",
       "      <th>Cuisines</th>\n",
       "      <th>Average Cost for two</th>\n",
       "      <th>Currency</th>\n",
       "      <th>Has Table booking</th>\n",
       "      <th>Has Online delivery</th>\n",
       "      <th>Price range</th>\n",
       "      <th>Aggregate rating</th>\n",
       "      <th>Rating color</th>\n",
       "      <th>Rating text</th>\n",
       "      <th>Votes</th>\n",
       "    </tr>\n",
       "  </thead>\n",
       "  <tbody>\n",
       "    <tr>\n",
       "      <th>0</th>\n",
       "      <td>18490967</td>\n",
       "      <td>Let's Burrrp</td>\n",
       "      <td>1</td>\n",
       "      <td>Noida</td>\n",
       "      <td>Bs-10, Sector 70, Near Sector 70, Noida</td>\n",
       "      <td>Sector 71</td>\n",
       "      <td>Sector 71, Noida</td>\n",
       "      <td>0.000000</td>\n",
       "      <td>0.000000</td>\n",
       "      <td>Chinese, North Indian</td>\n",
       "      <td>400</td>\n",
       "      <td>Indian Rupees(Rs.)</td>\n",
       "      <td>No</td>\n",
       "      <td>No</td>\n",
       "      <td>1</td>\n",
       "      <td>0.0</td>\n",
       "      <td>White</td>\n",
       "      <td>Not rated</td>\n",
       "      <td>0</td>\n",
       "    </tr>\n",
       "    <tr>\n",
       "      <th>1</th>\n",
       "      <td>3100446</td>\n",
       "      <td>#45</td>\n",
       "      <td>1</td>\n",
       "      <td>Mangalore</td>\n",
       "      <td>Ground Floor, Trinity Commercial Complex, Near...</td>\n",
       "      <td>Attavar</td>\n",
       "      <td>Attavar, Mangalore</td>\n",
       "      <td>0.000000</td>\n",
       "      <td>0.000000</td>\n",
       "      <td>Cafe</td>\n",
       "      <td>600</td>\n",
       "      <td>Indian Rupees(Rs.)</td>\n",
       "      <td>No</td>\n",
       "      <td>No</td>\n",
       "      <td>2</td>\n",
       "      <td>3.6</td>\n",
       "      <td>Yellow</td>\n",
       "      <td>Good</td>\n",
       "      <td>209</td>\n",
       "    </tr>\n",
       "    <tr>\n",
       "      <th>2</th>\n",
       "      <td>18378803</td>\n",
       "      <td>#Dilliwaala6</td>\n",
       "      <td>1</td>\n",
       "      <td>Puducherry</td>\n",
       "      <td>6, Rue De La Marine, White Town, Puducherry</td>\n",
       "      <td>White Town</td>\n",
       "      <td>White Town, Puducherry</td>\n",
       "      <td>79.834810</td>\n",
       "      <td>11.936532</td>\n",
       "      <td>North Indian</td>\n",
       "      <td>800</td>\n",
       "      <td>Indian Rupees(Rs.)</td>\n",
       "      <td>No</td>\n",
       "      <td>No</td>\n",
       "      <td>3</td>\n",
       "      <td>3.7</td>\n",
       "      <td>Yellow</td>\n",
       "      <td>Good</td>\n",
       "      <td>124</td>\n",
       "    </tr>\n",
       "    <tr>\n",
       "      <th>3</th>\n",
       "      <td>18489842</td>\n",
       "      <td>#hashtag</td>\n",
       "      <td>1</td>\n",
       "      <td>New Delhi</td>\n",
       "      <td>1092/1, Mehrauli Bus Stand, Mehrauli, New Delhi</td>\n",
       "      <td>Mehrauli</td>\n",
       "      <td>Mehrauli, New Delhi</td>\n",
       "      <td>77.181865</td>\n",
       "      <td>28.522205</td>\n",
       "      <td>Cafe</td>\n",
       "      <td>500</td>\n",
       "      <td>Indian Rupees(Rs.)</td>\n",
       "      <td>No</td>\n",
       "      <td>No</td>\n",
       "      <td>2</td>\n",
       "      <td>0.0</td>\n",
       "      <td>White</td>\n",
       "      <td>Not rated</td>\n",
       "      <td>0</td>\n",
       "    </tr>\n",
       "    <tr>\n",
       "      <th>4</th>\n",
       "      <td>18311951</td>\n",
       "      <td>#InstaFreeze</td>\n",
       "      <td>1</td>\n",
       "      <td>New Delhi</td>\n",
       "      <td>B-17, Alaknanda Shopping Complex, Alaknanda, N...</td>\n",
       "      <td>Alaknanda</td>\n",
       "      <td>Alaknanda, New Delhi</td>\n",
       "      <td>77.253694</td>\n",
       "      <td>28.525420</td>\n",
       "      <td>Ice Cream</td>\n",
       "      <td>300</td>\n",
       "      <td>Indian Rupees(Rs.)</td>\n",
       "      <td>No</td>\n",
       "      <td>No</td>\n",
       "      <td>1</td>\n",
       "      <td>0.0</td>\n",
       "      <td>White</td>\n",
       "      <td>Not rated</td>\n",
       "      <td>2</td>\n",
       "    </tr>\n",
       "  </tbody>\n",
       "</table>\n",
       "</div>"
      ],
      "text/plain": [
       "   Restaurant ID Restaurant Name  Country Code        City  \\\n",
       "0       18490967    Let's Burrrp             1       Noida   \n",
       "1        3100446             #45             1   Mangalore   \n",
       "2       18378803    #Dilliwaala6             1  Puducherry   \n",
       "3       18489842        #hashtag             1   New Delhi   \n",
       "4       18311951    #InstaFreeze             1   New Delhi   \n",
       "\n",
       "                                             Address    Locality  \\\n",
       "0            Bs-10, Sector 70, Near Sector 70, Noida   Sector 71   \n",
       "1  Ground Floor, Trinity Commercial Complex, Near...     Attavar   \n",
       "2        6, Rue De La Marine, White Town, Puducherry  White Town   \n",
       "3    1092/1, Mehrauli Bus Stand, Mehrauli, New Delhi    Mehrauli   \n",
       "4  B-17, Alaknanda Shopping Complex, Alaknanda, N...   Alaknanda   \n",
       "\n",
       "         Locality Verbose  Longitude   Latitude               Cuisines  \\\n",
       "0        Sector 71, Noida   0.000000   0.000000  Chinese, North Indian   \n",
       "1      Attavar, Mangalore   0.000000   0.000000                   Cafe   \n",
       "2  White Town, Puducherry  79.834810  11.936532           North Indian   \n",
       "3     Mehrauli, New Delhi  77.181865  28.522205                   Cafe   \n",
       "4    Alaknanda, New Delhi  77.253694  28.525420              Ice Cream   \n",
       "\n",
       "   Average Cost for two            Currency Has Table booking  \\\n",
       "0                   400  Indian Rupees(Rs.)                No   \n",
       "1                   600  Indian Rupees(Rs.)                No   \n",
       "2                   800  Indian Rupees(Rs.)                No   \n",
       "3                   500  Indian Rupees(Rs.)                No   \n",
       "4                   300  Indian Rupees(Rs.)                No   \n",
       "\n",
       "  Has Online delivery  Price range  Aggregate rating Rating color Rating text  \\\n",
       "0                  No            1               0.0        White   Not rated   \n",
       "1                  No            2               3.6       Yellow        Good   \n",
       "2                  No            3               3.7       Yellow        Good   \n",
       "3                  No            2               0.0        White   Not rated   \n",
       "4                  No            1               0.0        White   Not rated   \n",
       "\n",
       "   Votes  \n",
       "0      0  \n",
       "1    209  \n",
       "2    124  \n",
       "3      0  \n",
       "4      2  "
      ]
     },
     "execution_count": 193,
     "metadata": {},
     "output_type": "execute_result"
    }
   ],
   "source": [
    "data.head()"
   ]
  },
  {
   "cell_type": "code",
   "execution_count": 194,
   "id": "857d5c31",
   "metadata": {},
   "outputs": [
    {
     "data": {
      "text/html": [
       "<div>\n",
       "<style scoped>\n",
       "    .dataframe tbody tr th:only-of-type {\n",
       "        vertical-align: middle;\n",
       "    }\n",
       "\n",
       "    .dataframe tbody tr th {\n",
       "        vertical-align: top;\n",
       "    }\n",
       "\n",
       "    .dataframe thead th {\n",
       "        text-align: right;\n",
       "    }\n",
       "</style>\n",
       "<table border=\"1\" class=\"dataframe\">\n",
       "  <thead>\n",
       "    <tr style=\"text-align: right;\">\n",
       "      <th></th>\n",
       "      <th>Restaurant ID</th>\n",
       "      <th>Restaurant Name</th>\n",
       "      <th>Country Code</th>\n",
       "      <th>City</th>\n",
       "      <th>Address</th>\n",
       "      <th>Locality</th>\n",
       "      <th>Locality Verbose</th>\n",
       "      <th>Longitude</th>\n",
       "      <th>Latitude</th>\n",
       "      <th>Cuisines</th>\n",
       "      <th>Average Cost for two</th>\n",
       "      <th>Currency</th>\n",
       "      <th>Has Table booking</th>\n",
       "      <th>Has Online delivery</th>\n",
       "      <th>Price range</th>\n",
       "      <th>Aggregate rating</th>\n",
       "      <th>Rating color</th>\n",
       "      <th>Rating text</th>\n",
       "      <th>Votes</th>\n",
       "      <th>Country</th>\n",
       "    </tr>\n",
       "  </thead>\n",
       "  <tbody>\n",
       "    <tr>\n",
       "      <th>0</th>\n",
       "      <td>18490967</td>\n",
       "      <td>Let's Burrrp</td>\n",
       "      <td>1</td>\n",
       "      <td>Noida</td>\n",
       "      <td>Bs-10, Sector 70, Near Sector 70, Noida</td>\n",
       "      <td>Sector 71</td>\n",
       "      <td>Sector 71, Noida</td>\n",
       "      <td>0.000000</td>\n",
       "      <td>0.000000</td>\n",
       "      <td>Chinese, North Indian</td>\n",
       "      <td>400</td>\n",
       "      <td>Indian Rupees(Rs.)</td>\n",
       "      <td>No</td>\n",
       "      <td>No</td>\n",
       "      <td>1</td>\n",
       "      <td>0.0</td>\n",
       "      <td>White</td>\n",
       "      <td>Not rated</td>\n",
       "      <td>0</td>\n",
       "      <td>India</td>\n",
       "    </tr>\n",
       "    <tr>\n",
       "      <th>1</th>\n",
       "      <td>3100446</td>\n",
       "      <td>#45</td>\n",
       "      <td>1</td>\n",
       "      <td>Mangalore</td>\n",
       "      <td>Ground Floor, Trinity Commercial Complex, Near...</td>\n",
       "      <td>Attavar</td>\n",
       "      <td>Attavar, Mangalore</td>\n",
       "      <td>0.000000</td>\n",
       "      <td>0.000000</td>\n",
       "      <td>Cafe</td>\n",
       "      <td>600</td>\n",
       "      <td>Indian Rupees(Rs.)</td>\n",
       "      <td>No</td>\n",
       "      <td>No</td>\n",
       "      <td>2</td>\n",
       "      <td>3.6</td>\n",
       "      <td>Yellow</td>\n",
       "      <td>Good</td>\n",
       "      <td>209</td>\n",
       "      <td>India</td>\n",
       "    </tr>\n",
       "    <tr>\n",
       "      <th>2</th>\n",
       "      <td>18378803</td>\n",
       "      <td>#Dilliwaala6</td>\n",
       "      <td>1</td>\n",
       "      <td>Puducherry</td>\n",
       "      <td>6, Rue De La Marine, White Town, Puducherry</td>\n",
       "      <td>White Town</td>\n",
       "      <td>White Town, Puducherry</td>\n",
       "      <td>79.834810</td>\n",
       "      <td>11.936532</td>\n",
       "      <td>North Indian</td>\n",
       "      <td>800</td>\n",
       "      <td>Indian Rupees(Rs.)</td>\n",
       "      <td>No</td>\n",
       "      <td>No</td>\n",
       "      <td>3</td>\n",
       "      <td>3.7</td>\n",
       "      <td>Yellow</td>\n",
       "      <td>Good</td>\n",
       "      <td>124</td>\n",
       "      <td>India</td>\n",
       "    </tr>\n",
       "    <tr>\n",
       "      <th>3</th>\n",
       "      <td>18489842</td>\n",
       "      <td>#hashtag</td>\n",
       "      <td>1</td>\n",
       "      <td>New Delhi</td>\n",
       "      <td>1092/1, Mehrauli Bus Stand, Mehrauli, New Delhi</td>\n",
       "      <td>Mehrauli</td>\n",
       "      <td>Mehrauli, New Delhi</td>\n",
       "      <td>77.181865</td>\n",
       "      <td>28.522205</td>\n",
       "      <td>Cafe</td>\n",
       "      <td>500</td>\n",
       "      <td>Indian Rupees(Rs.)</td>\n",
       "      <td>No</td>\n",
       "      <td>No</td>\n",
       "      <td>2</td>\n",
       "      <td>0.0</td>\n",
       "      <td>White</td>\n",
       "      <td>Not rated</td>\n",
       "      <td>0</td>\n",
       "      <td>India</td>\n",
       "    </tr>\n",
       "    <tr>\n",
       "      <th>4</th>\n",
       "      <td>18311951</td>\n",
       "      <td>#InstaFreeze</td>\n",
       "      <td>1</td>\n",
       "      <td>New Delhi</td>\n",
       "      <td>B-17, Alaknanda Shopping Complex, Alaknanda, N...</td>\n",
       "      <td>Alaknanda</td>\n",
       "      <td>Alaknanda, New Delhi</td>\n",
       "      <td>77.253694</td>\n",
       "      <td>28.525420</td>\n",
       "      <td>Ice Cream</td>\n",
       "      <td>300</td>\n",
       "      <td>Indian Rupees(Rs.)</td>\n",
       "      <td>No</td>\n",
       "      <td>No</td>\n",
       "      <td>1</td>\n",
       "      <td>0.0</td>\n",
       "      <td>White</td>\n",
       "      <td>Not rated</td>\n",
       "      <td>2</td>\n",
       "      <td>India</td>\n",
       "    </tr>\n",
       "  </tbody>\n",
       "</table>\n",
       "</div>"
      ],
      "text/plain": [
       "   Restaurant ID Restaurant Name  Country Code        City  \\\n",
       "0       18490967    Let's Burrrp             1       Noida   \n",
       "1        3100446             #45             1   Mangalore   \n",
       "2       18378803    #Dilliwaala6             1  Puducherry   \n",
       "3       18489842        #hashtag             1   New Delhi   \n",
       "4       18311951    #InstaFreeze             1   New Delhi   \n",
       "\n",
       "                                             Address    Locality  \\\n",
       "0            Bs-10, Sector 70, Near Sector 70, Noida   Sector 71   \n",
       "1  Ground Floor, Trinity Commercial Complex, Near...     Attavar   \n",
       "2        6, Rue De La Marine, White Town, Puducherry  White Town   \n",
       "3    1092/1, Mehrauli Bus Stand, Mehrauli, New Delhi    Mehrauli   \n",
       "4  B-17, Alaknanda Shopping Complex, Alaknanda, N...   Alaknanda   \n",
       "\n",
       "         Locality Verbose  Longitude   Latitude               Cuisines  \\\n",
       "0        Sector 71, Noida   0.000000   0.000000  Chinese, North Indian   \n",
       "1      Attavar, Mangalore   0.000000   0.000000                   Cafe   \n",
       "2  White Town, Puducherry  79.834810  11.936532           North Indian   \n",
       "3     Mehrauli, New Delhi  77.181865  28.522205                   Cafe   \n",
       "4    Alaknanda, New Delhi  77.253694  28.525420              Ice Cream   \n",
       "\n",
       "   Average Cost for two            Currency Has Table booking  \\\n",
       "0                   400  Indian Rupees(Rs.)                No   \n",
       "1                   600  Indian Rupees(Rs.)                No   \n",
       "2                   800  Indian Rupees(Rs.)                No   \n",
       "3                   500  Indian Rupees(Rs.)                No   \n",
       "4                   300  Indian Rupees(Rs.)                No   \n",
       "\n",
       "  Has Online delivery  Price range  Aggregate rating Rating color Rating text  \\\n",
       "0                  No            1               0.0        White   Not rated   \n",
       "1                  No            2               3.6       Yellow        Good   \n",
       "2                  No            3               3.7       Yellow        Good   \n",
       "3                  No            2               0.0        White   Not rated   \n",
       "4                  No            1               0.0        White   Not rated   \n",
       "\n",
       "   Votes Country  \n",
       "0      0   India  \n",
       "1    209   India  \n",
       "2    124   India  \n",
       "3      0   India  \n",
       "4      2   India  "
      ]
     },
     "execution_count": 194,
     "metadata": {},
     "output_type": "execute_result"
    }
   ],
   "source": [
    "cc=pd.read_excel('Country-Code.xlsx')\n",
    "df=pd.merge(data,cc,on='Country Code',how='inner')\n",
    "df.head()"
   ]
  },
  {
   "cell_type": "code",
   "execution_count": 195,
   "id": "fc60ff3e",
   "metadata": {},
   "outputs": [
    {
     "data": {
      "text/plain": [
       "Index(['Restaurant_ID', 'Restaurant_Name', 'Country_Code', 'City', 'Address',\n",
       "       'Locality', 'Locality_Verbose', 'Longitude', 'Latitude', 'Cuisines',\n",
       "       'Average_Cost_for_two', 'Currency', 'Has_Table_booking',\n",
       "       'Has_Online_delivery', 'Price_range', 'Aggregate_rating',\n",
       "       'Rating_color', 'Rating_text', 'Votes', 'Country'],\n",
       "      dtype='object')"
      ]
     },
     "execution_count": 195,
     "metadata": {},
     "output_type": "execute_result"
    }
   ],
   "source": [
    "df.columns = df.columns.str.replace(' ','_')\n",
    "df.columns"
   ]
  },
  {
   "cell_type": "code",
   "execution_count": 196,
   "id": "030f430d",
   "metadata": {},
   "outputs": [
    {
     "name": "stdout",
     "output_type": "stream",
     "text": [
      "<class 'pandas.core.frame.DataFrame'>\n",
      "Int64Index: 9550 entries, 0 to 9549\n",
      "Data columns (total 20 columns):\n",
      " #   Column                Non-Null Count  Dtype  \n",
      "---  ------                --------------  -----  \n",
      " 0   Restaurant_ID         9550 non-null   int64  \n",
      " 1   Restaurant_Name       9549 non-null   object \n",
      " 2   Country_Code          9550 non-null   int64  \n",
      " 3   City                  9550 non-null   object \n",
      " 4   Address               9550 non-null   object \n",
      " 5   Locality              9550 non-null   object \n",
      " 6   Locality_Verbose      9550 non-null   object \n",
      " 7   Longitude             9550 non-null   float64\n",
      " 8   Latitude              9550 non-null   float64\n",
      " 9   Cuisines              9541 non-null   object \n",
      " 10  Average_Cost_for_two  9550 non-null   int64  \n",
      " 11  Currency              9550 non-null   object \n",
      " 12  Has_Table_booking     9550 non-null   object \n",
      " 13  Has_Online_delivery   9550 non-null   object \n",
      " 14  Price_range           9550 non-null   int64  \n",
      " 15  Aggregate_rating      9550 non-null   float64\n",
      " 16  Rating_color          9550 non-null   object \n",
      " 17  Rating_text           9550 non-null   object \n",
      " 18  Votes                 9550 non-null   int64  \n",
      " 19  Country               9550 non-null   object \n",
      "dtypes: float64(3), int64(5), object(12)\n",
      "memory usage: 1.5+ MB\n"
     ]
    }
   ],
   "source": [
    "df.info()"
   ]
  },
  {
   "cell_type": "code",
   "execution_count": 197,
   "id": "2cc8d337",
   "metadata": {},
   "outputs": [
    {
     "data": {
      "text/plain": [
       "Restaurant_ID           0\n",
       "Restaurant_Name         1\n",
       "Country_Code            0\n",
       "City                    0\n",
       "Address                 0\n",
       "Locality                0\n",
       "Locality_Verbose        0\n",
       "Longitude               0\n",
       "Latitude                0\n",
       "Cuisines                9\n",
       "Average_Cost_for_two    0\n",
       "Currency                0\n",
       "Has_Table_booking       0\n",
       "Has_Online_delivery     0\n",
       "Price_range             0\n",
       "Aggregate_rating        0\n",
       "Rating_color            0\n",
       "Rating_text             0\n",
       "Votes                   0\n",
       "Country                 0\n",
       "dtype: int64"
      ]
     },
     "execution_count": 197,
     "metadata": {},
     "output_type": "execute_result"
    }
   ],
   "source": [
    "df.isnull().sum()"
   ]
  },
  {
   "cell_type": "code",
   "execution_count": 198,
   "id": "e517a6a5",
   "metadata": {},
   "outputs": [],
   "source": [
    "df.dropna(axis=0,subset=['Restaurant_Name'],inplace=True)\n",
    "df.reset_index(drop=True,inplace=True)\n"
   ]
  },
  {
   "cell_type": "code",
   "execution_count": 199,
   "id": "07b28167",
   "metadata": {},
   "outputs": [
    {
     "data": {
      "text/plain": [
       "Restaurant_ID           0\n",
       "Restaurant_Name         0\n",
       "Country_Code            0\n",
       "City                    0\n",
       "Address                 0\n",
       "Locality                0\n",
       "Locality_Verbose        0\n",
       "Longitude               0\n",
       "Latitude                0\n",
       "Cuisines                9\n",
       "Average_Cost_for_two    0\n",
       "Currency                0\n",
       "Has_Table_booking       0\n",
       "Has_Online_delivery     0\n",
       "Price_range             0\n",
       "Aggregate_rating        0\n",
       "Rating_color            0\n",
       "Rating_text             0\n",
       "Votes                   0\n",
       "Country                 0\n",
       "dtype: int64"
      ]
     },
     "execution_count": 199,
     "metadata": {},
     "output_type": "execute_result"
    }
   ],
   "source": [
    "df.isnull().sum()"
   ]
  },
  {
   "cell_type": "code",
   "execution_count": 200,
   "id": "0ce7297f",
   "metadata": {},
   "outputs": [],
   "source": [
    "df['Cuisines'].fillna('Others',inplace=True)"
   ]
  },
  {
   "cell_type": "code",
   "execution_count": 201,
   "id": "d216c61a",
   "metadata": {},
   "outputs": [
    {
     "data": {
      "text/plain": [
       "Restaurant_ID           0\n",
       "Restaurant_Name         0\n",
       "Country_Code            0\n",
       "City                    0\n",
       "Address                 0\n",
       "Locality                0\n",
       "Locality_Verbose        0\n",
       "Longitude               0\n",
       "Latitude                0\n",
       "Cuisines                0\n",
       "Average_Cost_for_two    0\n",
       "Currency                0\n",
       "Has_Table_booking       0\n",
       "Has_Online_delivery     0\n",
       "Price_range             0\n",
       "Aggregate_rating        0\n",
       "Rating_color            0\n",
       "Rating_text             0\n",
       "Votes                   0\n",
       "Country                 0\n",
       "dtype: int64"
      ]
     },
     "execution_count": 201,
     "metadata": {},
     "output_type": "execute_result"
    }
   ],
   "source": [
    "df.isnull().sum()"
   ]
  },
  {
   "cell_type": "code",
   "execution_count": 202,
   "id": "fe1ef80e",
   "metadata": {},
   "outputs": [
    {
     "name": "stdout",
     "output_type": "stream",
     "text": [
      "<class 'pandas.core.frame.DataFrame'>\n",
      "RangeIndex: 9549 entries, 0 to 9548\n",
      "Data columns (total 20 columns):\n",
      " #   Column                Non-Null Count  Dtype  \n",
      "---  ------                --------------  -----  \n",
      " 0   Restaurant_ID         9549 non-null   int64  \n",
      " 1   Restaurant_Name       9549 non-null   object \n",
      " 2   Country_Code          9549 non-null   int64  \n",
      " 3   City                  9549 non-null   object \n",
      " 4   Address               9549 non-null   object \n",
      " 5   Locality              9549 non-null   object \n",
      " 6   Locality_Verbose      9549 non-null   object \n",
      " 7   Longitude             9549 non-null   float64\n",
      " 8   Latitude              9549 non-null   float64\n",
      " 9   Cuisines              9549 non-null   object \n",
      " 10  Average_Cost_for_two  9549 non-null   int64  \n",
      " 11  Currency              9549 non-null   object \n",
      " 12  Has_Table_booking     9549 non-null   object \n",
      " 13  Has_Online_delivery   9549 non-null   object \n",
      " 14  Price_range           9549 non-null   int64  \n",
      " 15  Aggregate_rating      9549 non-null   float64\n",
      " 16  Rating_color          9549 non-null   object \n",
      " 17  Rating_text           9549 non-null   object \n",
      " 18  Votes                 9549 non-null   int64  \n",
      " 19  Country               9549 non-null   object \n",
      "dtypes: float64(3), int64(5), object(12)\n",
      "memory usage: 1.5+ MB\n"
     ]
    }
   ],
   "source": [
    "df.info()"
   ]
  },
  {
   "cell_type": "code",
   "execution_count": 203,
   "id": "74475344",
   "metadata": {},
   "outputs": [
    {
     "data": {
      "text/html": [
       "<div>\n",
       "<style scoped>\n",
       "    .dataframe tbody tr th:only-of-type {\n",
       "        vertical-align: middle;\n",
       "    }\n",
       "\n",
       "    .dataframe tbody tr th {\n",
       "        vertical-align: top;\n",
       "    }\n",
       "\n",
       "    .dataframe thead th {\n",
       "        text-align: right;\n",
       "    }\n",
       "</style>\n",
       "<table border=\"1\" class=\"dataframe\">\n",
       "  <thead>\n",
       "    <tr style=\"text-align: right;\">\n",
       "      <th></th>\n",
       "      <th>Restaurant_ID</th>\n",
       "      <th>Restaurant_Name</th>\n",
       "      <th>Country_Code</th>\n",
       "      <th>City</th>\n",
       "      <th>Address</th>\n",
       "      <th>Locality</th>\n",
       "      <th>Locality_Verbose</th>\n",
       "      <th>Longitude</th>\n",
       "      <th>Latitude</th>\n",
       "      <th>Cuisines</th>\n",
       "      <th>Average_Cost_for_two</th>\n",
       "      <th>Currency</th>\n",
       "      <th>Has_Table_booking</th>\n",
       "      <th>Has_Online_delivery</th>\n",
       "      <th>Price_range</th>\n",
       "      <th>Aggregate_rating</th>\n",
       "      <th>Rating_color</th>\n",
       "      <th>Rating_text</th>\n",
       "      <th>Votes</th>\n",
       "      <th>Country</th>\n",
       "    </tr>\n",
       "  </thead>\n",
       "  <tbody>\n",
       "  </tbody>\n",
       "</table>\n",
       "</div>"
      ],
      "text/plain": [
       "Empty DataFrame\n",
       "Columns: [Restaurant_ID, Restaurant_Name, Country_Code, City, Address, Locality, Locality_Verbose, Longitude, Latitude, Cuisines, Average_Cost_for_two, Currency, Has_Table_booking, Has_Online_delivery, Price_range, Aggregate_rating, Rating_color, Rating_text, Votes, Country]\n",
       "Index: []"
      ]
     },
     "execution_count": 203,
     "metadata": {},
     "output_type": "execute_result"
    }
   ],
   "source": [
    "temp=df[df.duplicated()]\n",
    "temp"
   ]
  },
  {
   "cell_type": "code",
   "execution_count": 204,
   "id": "77a8ab7b",
   "metadata": {},
   "outputs": [
    {
     "data": {
      "text/html": [
       "<div>\n",
       "<style scoped>\n",
       "    .dataframe tbody tr th:only-of-type {\n",
       "        vertical-align: middle;\n",
       "    }\n",
       "\n",
       "    .dataframe tbody tr th {\n",
       "        vertical-align: top;\n",
       "    }\n",
       "\n",
       "    .dataframe thead th {\n",
       "        text-align: right;\n",
       "    }\n",
       "</style>\n",
       "<table border=\"1\" class=\"dataframe\">\n",
       "  <thead>\n",
       "    <tr style=\"text-align: right;\">\n",
       "      <th></th>\n",
       "      <th>Restaurant_ID</th>\n",
       "      <th>Country_Code</th>\n",
       "      <th>Longitude</th>\n",
       "      <th>Latitude</th>\n",
       "      <th>Average_Cost_for_two</th>\n",
       "      <th>Price_range</th>\n",
       "      <th>Aggregate_rating</th>\n",
       "      <th>Votes</th>\n",
       "    </tr>\n",
       "  </thead>\n",
       "  <tbody>\n",
       "    <tr>\n",
       "      <th>count</th>\n",
       "      <td>9.549000e+03</td>\n",
       "      <td>9549.000000</td>\n",
       "      <td>9549.000000</td>\n",
       "      <td>9549.000000</td>\n",
       "      <td>9549.000000</td>\n",
       "      <td>9549.000000</td>\n",
       "      <td>9549.000000</td>\n",
       "      <td>9549.000000</td>\n",
       "    </tr>\n",
       "    <tr>\n",
       "      <th>mean</th>\n",
       "      <td>9.052845e+06</td>\n",
       "      <td>18.369253</td>\n",
       "      <td>64.124689</td>\n",
       "      <td>25.855288</td>\n",
       "      <td>1199.336266</td>\n",
       "      <td>1.804692</td>\n",
       "      <td>2.666133</td>\n",
       "      <td>156.853702</td>\n",
       "    </tr>\n",
       "    <tr>\n",
       "      <th>std</th>\n",
       "      <td>8.791635e+06</td>\n",
       "      <td>56.755932</td>\n",
       "      <td>41.471195</td>\n",
       "      <td>11.008888</td>\n",
       "      <td>16122.868828</td>\n",
       "      <td>0.905619</td>\n",
       "      <td>1.516441</td>\n",
       "      <td>430.167866</td>\n",
       "    </tr>\n",
       "    <tr>\n",
       "      <th>min</th>\n",
       "      <td>5.300000e+01</td>\n",
       "      <td>1.000000</td>\n",
       "      <td>-157.948486</td>\n",
       "      <td>-41.330428</td>\n",
       "      <td>0.000000</td>\n",
       "      <td>1.000000</td>\n",
       "      <td>0.000000</td>\n",
       "      <td>0.000000</td>\n",
       "    </tr>\n",
       "    <tr>\n",
       "      <th>25%</th>\n",
       "      <td>3.019890e+05</td>\n",
       "      <td>1.000000</td>\n",
       "      <td>77.081404</td>\n",
       "      <td>28.478751</td>\n",
       "      <td>250.000000</td>\n",
       "      <td>1.000000</td>\n",
       "      <td>2.500000</td>\n",
       "      <td>5.000000</td>\n",
       "    </tr>\n",
       "    <tr>\n",
       "      <th>50%</th>\n",
       "      <td>6.004408e+06</td>\n",
       "      <td>1.000000</td>\n",
       "      <td>77.191964</td>\n",
       "      <td>28.570470</td>\n",
       "      <td>400.000000</td>\n",
       "      <td>2.000000</td>\n",
       "      <td>3.200000</td>\n",
       "      <td>31.000000</td>\n",
       "    </tr>\n",
       "    <tr>\n",
       "      <th>75%</th>\n",
       "      <td>1.835230e+07</td>\n",
       "      <td>1.000000</td>\n",
       "      <td>77.282017</td>\n",
       "      <td>28.642762</td>\n",
       "      <td>700.000000</td>\n",
       "      <td>2.000000</td>\n",
       "      <td>3.700000</td>\n",
       "      <td>131.000000</td>\n",
       "    </tr>\n",
       "    <tr>\n",
       "      <th>max</th>\n",
       "      <td>1.850065e+07</td>\n",
       "      <td>216.000000</td>\n",
       "      <td>174.832089</td>\n",
       "      <td>55.976980</td>\n",
       "      <td>800000.000000</td>\n",
       "      <td>4.000000</td>\n",
       "      <td>4.900000</td>\n",
       "      <td>10934.000000</td>\n",
       "    </tr>\n",
       "  </tbody>\n",
       "</table>\n",
       "</div>"
      ],
      "text/plain": [
       "       Restaurant_ID  Country_Code    Longitude     Latitude  \\\n",
       "count   9.549000e+03   9549.000000  9549.000000  9549.000000   \n",
       "mean    9.052845e+06     18.369253    64.124689    25.855288   \n",
       "std     8.791635e+06     56.755932    41.471195    11.008888   \n",
       "min     5.300000e+01      1.000000  -157.948486   -41.330428   \n",
       "25%     3.019890e+05      1.000000    77.081404    28.478751   \n",
       "50%     6.004408e+06      1.000000    77.191964    28.570470   \n",
       "75%     1.835230e+07      1.000000    77.282017    28.642762   \n",
       "max     1.850065e+07    216.000000   174.832089    55.976980   \n",
       "\n",
       "       Average_Cost_for_two  Price_range  Aggregate_rating         Votes  \n",
       "count           9549.000000  9549.000000       9549.000000   9549.000000  \n",
       "mean            1199.336266     1.804692          2.666133    156.853702  \n",
       "std            16122.868828     0.905619          1.516441    430.167866  \n",
       "min                0.000000     1.000000          0.000000      0.000000  \n",
       "25%              250.000000     1.000000          2.500000      5.000000  \n",
       "50%              400.000000     2.000000          3.200000     31.000000  \n",
       "75%              700.000000     2.000000          3.700000    131.000000  \n",
       "max           800000.000000     4.000000          4.900000  10934.000000  "
      ]
     },
     "execution_count": 204,
     "metadata": {},
     "output_type": "execute_result"
    }
   ],
   "source": [
    "df.describe()"
   ]
  },
  {
   "cell_type": "code",
   "execution_count": 205,
   "id": "a2825bd1",
   "metadata": {},
   "outputs": [
    {
     "data": {
      "text/html": [
       "<div>\n",
       "<style scoped>\n",
       "    .dataframe tbody tr th:only-of-type {\n",
       "        vertical-align: middle;\n",
       "    }\n",
       "\n",
       "    .dataframe tbody tr th {\n",
       "        vertical-align: top;\n",
       "    }\n",
       "\n",
       "    .dataframe thead th {\n",
       "        text-align: right;\n",
       "    }\n",
       "</style>\n",
       "<table border=\"1\" class=\"dataframe\">\n",
       "  <thead>\n",
       "    <tr style=\"text-align: right;\">\n",
       "      <th></th>\n",
       "      <th></th>\n",
       "      <th>Count</th>\n",
       "    </tr>\n",
       "    <tr>\n",
       "      <th>Country_Code</th>\n",
       "      <th>Country</th>\n",
       "      <th></th>\n",
       "    </tr>\n",
       "  </thead>\n",
       "  <tbody>\n",
       "    <tr>\n",
       "      <th>1</th>\n",
       "      <th>India</th>\n",
       "      <td>8650</td>\n",
       "    </tr>\n",
       "    <tr>\n",
       "      <th>216</th>\n",
       "      <th>United States</th>\n",
       "      <td>434</td>\n",
       "    </tr>\n",
       "    <tr>\n",
       "      <th>215</th>\n",
       "      <th>United Kingdom</th>\n",
       "      <td>80</td>\n",
       "    </tr>\n",
       "    <tr>\n",
       "      <th>30</th>\n",
       "      <th>Brazil</th>\n",
       "      <td>60</td>\n",
       "    </tr>\n",
       "    <tr>\n",
       "      <th>189</th>\n",
       "      <th>South Africa</th>\n",
       "      <td>60</td>\n",
       "    </tr>\n",
       "    <tr>\n",
       "      <th>214</th>\n",
       "      <th>UAE</th>\n",
       "      <td>60</td>\n",
       "    </tr>\n",
       "    <tr>\n",
       "      <th>148</th>\n",
       "      <th>New Zealand</th>\n",
       "      <td>40</td>\n",
       "    </tr>\n",
       "    <tr>\n",
       "      <th>208</th>\n",
       "      <th>Turkey</th>\n",
       "      <td>34</td>\n",
       "    </tr>\n",
       "    <tr>\n",
       "      <th>14</th>\n",
       "      <th>Australia</th>\n",
       "      <td>24</td>\n",
       "    </tr>\n",
       "    <tr>\n",
       "      <th>162</th>\n",
       "      <th>Phillipines</th>\n",
       "      <td>22</td>\n",
       "    </tr>\n",
       "    <tr>\n",
       "      <th>94</th>\n",
       "      <th>Indonesia</th>\n",
       "      <td>21</td>\n",
       "    </tr>\n",
       "    <tr>\n",
       "      <th>166</th>\n",
       "      <th>Qatar</th>\n",
       "      <td>20</td>\n",
       "    </tr>\n",
       "    <tr>\n",
       "      <th>184</th>\n",
       "      <th>Singapore</th>\n",
       "      <td>20</td>\n",
       "    </tr>\n",
       "    <tr>\n",
       "      <th>191</th>\n",
       "      <th>Sri Lanka</th>\n",
       "      <td>20</td>\n",
       "    </tr>\n",
       "    <tr>\n",
       "      <th>37</th>\n",
       "      <th>Canada</th>\n",
       "      <td>4</td>\n",
       "    </tr>\n",
       "  </tbody>\n",
       "</table>\n",
       "</div>"
      ],
      "text/plain": [
       "                             Count\n",
       "Country_Code Country              \n",
       "1            India            8650\n",
       "216          United States     434\n",
       "215          United Kingdom     80\n",
       "30           Brazil             60\n",
       "189          South Africa       60\n",
       "214          UAE                60\n",
       "148          New Zealand        40\n",
       "208          Turkey             34\n",
       "14           Australia          24\n",
       "162          Phillipines        22\n",
       "94           Indonesia          21\n",
       "166          Qatar              20\n",
       "184          Singapore          20\n",
       "191          Sri Lanka          20\n",
       "37           Canada              4"
      ]
     },
     "execution_count": 205,
     "metadata": {},
     "output_type": "execute_result"
    }
   ],
   "source": [
    "# geographical distribution of the restaurants\n",
    "geo_dist = df.groupby(['Country_Code','Country']).agg( Count = ('Restaurant_ID','count'))\n",
    "geo_dist.sort_values(by='Count',ascending=False)"
   ]
  },
  {
   "cell_type": "markdown",
   "id": "988694d6",
   "metadata": {},
   "source": [
    " India has then highest number of restaurants with 8651 restaurants and USA is number 2 with 434 restaurants"
   ]
  },
  {
   "cell_type": "code",
   "execution_count": 206,
   "id": "9cc0d932",
   "metadata": {},
   "outputs": [
    {
     "data": {
      "text/plain": [
       "New Delhi    5473\n",
       "Gurgaon      1118\n",
       "Noida        1080\n",
       "Faridabad     251\n",
       "Ghaziabad      25\n",
       "Name: City, dtype: int64"
      ]
     },
     "execution_count": 206,
     "metadata": {},
     "output_type": "execute_result"
    }
   ],
   "source": [
    "#cities with maximum no of restaurants\n",
    "df.City.value_counts().head(5)"
   ]
  },
  {
   "cell_type": "code",
   "execution_count": 207,
   "id": "4d5de6be",
   "metadata": {},
   "outputs": [
    {
     "data": {
      "text/plain": [
       "Vernonia       1\n",
       "Bandung        1\n",
       "Balingup       1\n",
       "Paynesville    1\n",
       "Quezon City    1\n",
       "Name: City, dtype: int64"
      ]
     },
     "execution_count": 207,
     "metadata": {},
     "output_type": "execute_result"
    }
   ],
   "source": [
    "#cities with minimum no of restaurants\n",
    "df.City.value_counts().tail(5)"
   ]
  },
  {
   "cell_type": "code",
   "execution_count": 208,
   "id": "792cac4b",
   "metadata": {},
   "outputs": [],
   "source": [
    "franch=df.groupby(\"Country\")[\"Restaurant_Name\"].value_counts()"
   ]
  },
  {
   "cell_type": "code",
   "execution_count": 209,
   "id": "add0043c",
   "metadata": {},
   "outputs": [
    {
     "data": {
      "text/plain": [
       "Country        Restaurant_Name                      \n",
       "Australia      1918 Bistro & Grill                      1\n",
       "               5 Little Pigs                            1\n",
       "               Anchorage Cafe Restaurant Wine Bar       1\n",
       "               Beach Box Cafe                           1\n",
       "               Bespoke Harvest                          1\n",
       "                                                       ..\n",
       "United States  Yellow Dog Eats                          1\n",
       "               Zen Japanese Steakhouse and Sushi Bar    1\n",
       "               Zoeys Pizzeria                           1\n",
       "               Zombie Burger + Drink Lab                1\n",
       "               Zunzi's                                  1\n",
       "Name: Restaurant_Name, Length: 7471, dtype: int64"
      ]
     },
     "execution_count": 209,
     "metadata": {},
     "output_type": "execute_result"
    }
   ],
   "source": [
    "franch"
   ]
  },
  {
   "cell_type": "code",
   "execution_count": 210,
   "id": "bc14c324",
   "metadata": {},
   "outputs": [
    {
     "data": {
      "text/plain": [
       "India             8650\n",
       "United States      434\n",
       "United Kingdom      80\n",
       "South Africa        60\n",
       "Brazil              60\n",
       "Name: Country, dtype: int64"
      ]
     },
     "execution_count": 210,
     "metadata": {},
     "output_type": "execute_result"
    }
   ],
   "source": [
    "#countries with maximum no of restaurants\n",
    "df.Country.value_counts().head(5)"
   ]
  },
  {
   "cell_type": "code",
   "execution_count": 211,
   "id": "1f6b0891",
   "metadata": {},
   "outputs": [
    {
     "data": {
      "text/plain": [
       "Indonesia    21\n",
       "Qatar        20\n",
       "Singapore    20\n",
       "Sri Lanka    20\n",
       "Canada        4\n",
       "Name: Country, dtype: int64"
      ]
     },
     "execution_count": 211,
     "metadata": {},
     "output_type": "execute_result"
    }
   ],
   "source": [
    "#countries with maximum no of restaurants\n",
    "df.Country.value_counts().tail(5)"
   ]
  },
  {
   "cell_type": "code",
   "execution_count": 212,
   "id": "02a20164",
   "metadata": {},
   "outputs": [
    {
     "data": {
      "text/plain": [
       "No     8391\n",
       "Yes    1158\n",
       "Name: Has_Table_booking, dtype: int64"
      ]
     },
     "execution_count": 212,
     "metadata": {},
     "output_type": "execute_result"
    }
   ],
   "source": [
    "#No of restaurants having table booking\n",
    "df[\"Has_Table_booking\"].value_counts()"
   ]
  },
  {
   "cell_type": "code",
   "execution_count": 213,
   "id": "b2afc6b9",
   "metadata": {},
   "outputs": [],
   "source": [
    "#Finding out the ratio between restaurants that allow table booking vs. those that do not allow table booking\n",
    "ratio=1158/8383"
   ]
  },
  {
   "cell_type": "code",
   "execution_count": 214,
   "id": "733c333a",
   "metadata": {},
   "outputs": [
    {
     "data": {
      "text/plain": [
       "0.13813670523678873"
      ]
     },
     "execution_count": 214,
     "metadata": {},
     "output_type": "execute_result"
    }
   ],
   "source": [
    "ratio"
   ]
  },
  {
   "cell_type": "code",
   "execution_count": 215,
   "id": "4008ef95",
   "metadata": {},
   "outputs": [
    {
     "data": {
      "text/plain": [
       "No     7098\n",
       "Yes    2451\n",
       "Name: Has_Online_delivery, dtype: int64"
      ]
     },
     "execution_count": 215,
     "metadata": {},
     "output_type": "execute_result"
    }
   ],
   "source": [
    "#Finding out the percentage of restaurants providing online delivery\n",
    "df[\"Has_Online_delivery\"].value_counts()"
   ]
  },
  {
   "cell_type": "code",
   "execution_count": 216,
   "id": "27a0d53c",
   "metadata": {},
   "outputs": [
    {
     "data": {
      "text/plain": [
       "25.66"
      ]
     },
     "execution_count": 216,
     "metadata": {},
     "output_type": "execute_result"
    }
   ],
   "source": [
    "percent=round((2451/9550)*100,2)\n",
    "percent"
   ]
  },
  {
   "cell_type": "markdown",
   "id": "0c38f4d7",
   "metadata": {},
   "source": [
    "Neatly 25% of restaurant provide online delivery"
   ]
  },
  {
   "cell_type": "code",
   "execution_count": 217,
   "id": "63fb7d0f",
   "metadata": {},
   "outputs": [
    {
     "data": {
      "text/plain": [
       "Has_Online_delivery\n",
       "No     979882\n",
       "Yes    517914\n",
       "Name: Votes, dtype: int64"
      ]
     },
     "execution_count": 217,
     "metadata": {},
     "output_type": "execute_result"
    }
   ],
   "source": [
    "#the difference in number of votes for the restaurants that deliver and the restaurants that do not deliver\n",
    "df.groupby(\"Has_Online_delivery\")[\"Votes\"].sum()"
   ]
  },
  {
   "cell_type": "code",
   "execution_count": 218,
   "id": "eac75c2c",
   "metadata": {},
   "outputs": [],
   "source": [
    "vote_diff=979962-517914"
   ]
  },
  {
   "cell_type": "code",
   "execution_count": 219,
   "id": "da2c26ae",
   "metadata": {},
   "outputs": [
    {
     "data": {
      "text/plain": [
       "462048"
      ]
     },
     "execution_count": 219,
     "metadata": {},
     "output_type": "execute_result"
    }
   ],
   "source": [
    "vote_diff"
   ]
  },
  {
   "cell_type": "code",
   "execution_count": 220,
   "id": "5a33195f",
   "metadata": {},
   "outputs": [
    {
     "data": {
      "text/plain": [
       "City       Cuisines                          \n",
       "Abu Dhabi  American                              2\n",
       "           Indian                                2\n",
       "           Italian, Pizza                        2\n",
       "           American, Desserts                    1\n",
       "           American, Mexican, Seafood            1\n",
       "                                                ..\n",
       "€¡stanbul  Italian, World Cuisine                1\n",
       "           Restaurant Cafe, Desserts             1\n",
       "           Restaurant Cafe, Turkish, Desserts    1\n",
       "           Turkish                               1\n",
       "           World Cuisine, Patisserie, Cafe       1\n",
       "Name: Cuisines, Length: 3029, dtype: int64"
      ]
     },
     "execution_count": 220,
     "metadata": {},
     "output_type": "execute_result"
    }
   ],
   "source": [
    "#cuisines served across cities\n",
    "df.groupby(\"City\")[\"Cuisines\"].value_counts()"
   ]
  },
  {
   "cell_type": "code",
   "execution_count": 221,
   "id": "7ead9a7c",
   "metadata": {},
   "outputs": [
    {
     "data": {
      "text/plain": [
       "Thai                                   8\n",
       "Seafood                                5\n",
       "South Indian, North Indian, Chinese    4\n",
       "South Indian                           4\n",
       "Cafe                                   3\n",
       "Steak                                  3\n",
       "Street Food                            3\n",
       "Southern                               3\n",
       "Italian, Pizza                         2\n",
       "Filipino, Mexican                      2\n",
       "Name: Cuisines, dtype: int64"
      ]
     },
     "execution_count": 221,
     "metadata": {},
     "output_type": "execute_result"
    }
   ],
   "source": [
    "#maximum no of cuisines served per city\n",
    "df.groupby(\"City\")[\"Cuisines\"].max().value_counts().head(10)"
   ]
  },
  {
   "cell_type": "code",
   "execution_count": 222,
   "id": "d50aff1f",
   "metadata": {},
   "outputs": [
    {
     "data": {
      "text/plain": [
       "Italian, Fusion, Cafe                          1\n",
       "North Indian, Continental, Italian, Chinese    1\n",
       "Tibetan, Nepalese                              1\n",
       "Seafood, French                                1\n",
       "Cafe, Australian                               1\n",
       "Tea, Modern Australian                         1\n",
       "Mexican                                        1\n",
       "Street Food, South Indian, Mithai              1\n",
       "Thai, Asian                                    1\n",
       "World Cuisine, Patisserie, Cafe                1\n",
       "Name: Cuisines, dtype: int64"
      ]
     },
     "execution_count": 222,
     "metadata": {},
     "output_type": "execute_result"
    }
   ],
   "source": [
    "#maximum no of cuisines served per city\n",
    "df.groupby(\"City\")[\"Cuisines\"].max().value_counts().tail(10)"
   ]
  },
  {
   "cell_type": "code",
   "execution_count": 223,
   "id": "37edc97e",
   "metadata": {},
   "outputs": [
    {
     "data": {
      "text/plain": [
       "North Indian                      818\n",
       "North Indian, Chinese             438\n",
       "Chinese                           281\n",
       "Fast Food                         262\n",
       "North Indian, Mughlai             254\n",
       "Bakery                            183\n",
       "North Indian, Mughlai, Chinese    176\n",
       "Bakery, Desserts                  154\n",
       "Street Food                       137\n",
       "Cafe                              132\n",
       "Name: Cuisines, dtype: int64"
      ]
     },
     "execution_count": 223,
     "metadata": {},
     "output_type": "execute_result"
    }
   ],
   "source": [
    "#maximum no of cuisines served across restaurants\n",
    "df.groupby(\"Restaurant_Name\")[\"Cuisines\"].max().value_counts().head(10)"
   ]
  },
  {
   "cell_type": "code",
   "execution_count": 224,
   "id": "80d145ae",
   "metadata": {},
   "outputs": [
    {
     "data": {
      "text/plain": [
       "American, Finger Food                                           1\n",
       "Rajasthani, Gujarati, Mughlai                                   1\n",
       "Cafe, Italian, Salad                                            1\n",
       "Japanese, Steak                                                 1\n",
       "Chinese, Mangalorean                                            1\n",
       "American, Bar Food, BBQ                                         1\n",
       "Italian, Chinese, Continental, Thai, Mediterranean, Lebanese    1\n",
       "North Indian, Healthy Food, Rajasthani                          1\n",
       "Italian, Mediterranean                                          1\n",
       "Kebab, Izgara                                                   1\n",
       "Name: Cuisines, dtype: int64"
      ]
     },
     "execution_count": 224,
     "metadata": {},
     "output_type": "execute_result"
    }
   ],
   "source": [
    "#minimum no of cuisines served across restaurants\n",
    "df.groupby(\"Restaurant_Name\")[\"Cuisines\"].max().value_counts().tail(10)"
   ]
  },
  {
   "cell_type": "code",
   "execution_count": 225,
   "id": "a5fa4e71",
   "metadata": {},
   "outputs": [],
   "source": [
    "#Maximum cost for avegrate two persons\n",
    "avg_cost=(df.groupby(\"Restaurant_Name\")[\"Average_Cost_for_two\"].sum())"
   ]
  },
  {
   "cell_type": "code",
   "execution_count": 226,
   "id": "06ee7f6f",
   "metadata": {},
   "outputs": [
    {
     "data": {
      "text/plain": [
       "<AxesSubplot:xlabel='Currency', ylabel='Average_Cost_for_two'>"
      ]
     },
     "execution_count": 226,
     "metadata": {},
     "output_type": "execute_result"
    },
    {
     "data": {
      "image/png": "[encoded data removed]",
      "text/plain": [
       "<Figure size 1440x864 with 1 Axes>"
      ]
     },
     "metadata": {
      "needs_background": "light"
     },
     "output_type": "display_data"
    }
   ],
   "source": [
    "#distribution of cost\n",
    "plt.figure(figsize=(20,12))\n",
    "sns.boxplot(x=df[\"Currency\"],y=df[\"Average_Cost_for_two\"])"
   ]
  },
  {
   "cell_type": "markdown",
   "id": "081f5c3f",
   "metadata": {},
   "source": [
    "Since in Indonesian currency, Average Cost for two varies between 100000 to 800000, the plot loooks unequal. Other currencies are ranging between 0 and 8000"
   ]
  },
  {
   "cell_type": "code",
   "execution_count": 227,
   "id": "e8587693",
   "metadata": {},
   "outputs": [
    {
     "data": {
      "text/plain": [
       "1199.3362655775475"
      ]
     },
     "execution_count": 227,
     "metadata": {},
     "output_type": "execute_result"
    }
   ],
   "source": [
    "df[\"Average_Cost_for_two\"].mean()"
   ]
  },
  {
   "cell_type": "code",
   "execution_count": 228,
   "id": "c47405ba",
   "metadata": {},
   "outputs": [
    {
     "name": "stderr",
     "output_type": "stream",
     "text": [
      "C:\\Users\\sivar\\anaconda3\\lib\\site-packages\\seaborn\\distributions.py:2619: FutureWarning: `distplot` is a deprecated function and will be removed in a future version. Please adapt your code to use either `displot` (a figure-level function with similar flexibility) or `histplot` (an axes-level function for histograms).\n",
      "  warnings.warn(msg, FutureWarning)\n"
     ]
    },
    {
     "data": {
      "text/plain": [
       "<AxesSubplot:xlabel='Aggregate_rating', ylabel='Density'>"
      ]
     },
     "execution_count": 228,
     "metadata": {},
     "output_type": "execute_result"
    },
    {
     "data": {
      "image/png": "[encoded data removed]",
      "text/plain": [
       "<Figure size 432x288 with 1 Axes>"
      ]
     },
     "metadata": {
      "needs_background": "light"
     },
     "output_type": "display_data"
    }
   ],
   "source": [
    "#ratings distributed among various factors\n",
    "sns.distplot(df[\"Aggregate_rating\"])\n"
   ]
  },
  {
   "cell_type": "code",
   "execution_count": 229,
   "id": "5e7cac43",
   "metadata": {},
   "outputs": [
    {
     "data": {
      "text/html": [
       "<div>\n",
       "<style scoped>\n",
       "    .dataframe tbody tr th:only-of-type {\n",
       "        vertical-align: middle;\n",
       "    }\n",
       "\n",
       "    .dataframe tbody tr th {\n",
       "        vertical-align: top;\n",
       "    }\n",
       "\n",
       "    .dataframe thead th {\n",
       "        text-align: right;\n",
       "    }\n",
       "</style>\n",
       "<table border=\"1\" class=\"dataframe\">\n",
       "  <thead>\n",
       "    <tr style=\"text-align: right;\">\n",
       "      <th></th>\n",
       "      <th>Restaurant_ID</th>\n",
       "      <th>Country_Code</th>\n",
       "      <th>Longitude</th>\n",
       "      <th>Latitude</th>\n",
       "      <th>Average_Cost_for_two</th>\n",
       "      <th>Price_range</th>\n",
       "      <th>Aggregate_rating</th>\n",
       "      <th>Votes</th>\n",
       "    </tr>\n",
       "  </thead>\n",
       "  <tbody>\n",
       "    <tr>\n",
       "      <th>Restaurant_ID</th>\n",
       "      <td>1.000000</td>\n",
       "      <td>0.148426</td>\n",
       "      <td>-0.226061</td>\n",
       "      <td>-0.052161</td>\n",
       "      <td>-0.001700</td>\n",
       "      <td>-0.134406</td>\n",
       "      <td>-0.326113</td>\n",
       "      <td>-0.146916</td>\n",
       "    </tr>\n",
       "    <tr>\n",
       "      <th>Country_Code</th>\n",
       "      <td>0.148426</td>\n",
       "      <td>1.000000</td>\n",
       "      <td>-0.698296</td>\n",
       "      <td>0.019767</td>\n",
       "      <td>0.043223</td>\n",
       "      <td>0.243401</td>\n",
       "      <td>0.282257</td>\n",
       "      <td>0.154588</td>\n",
       "    </tr>\n",
       "    <tr>\n",
       "      <th>Longitude</th>\n",
       "      <td>-0.226061</td>\n",
       "      <td>-0.698296</td>\n",
       "      <td>1.000000</td>\n",
       "      <td>0.043227</td>\n",
       "      <td>0.045893</td>\n",
       "      <td>-0.078980</td>\n",
       "      <td>-0.116859</td>\n",
       "      <td>-0.085137</td>\n",
       "    </tr>\n",
       "    <tr>\n",
       "      <th>Latitude</th>\n",
       "      <td>-0.052161</td>\n",
       "      <td>0.019767</td>\n",
       "      <td>0.043227</td>\n",
       "      <td>1.000000</td>\n",
       "      <td>-0.111093</td>\n",
       "      <td>-0.166659</td>\n",
       "      <td>0.000572</td>\n",
       "      <td>-0.022937</td>\n",
       "    </tr>\n",
       "    <tr>\n",
       "      <th>Average_Cost_for_two</th>\n",
       "      <td>-0.001700</td>\n",
       "      <td>0.043223</td>\n",
       "      <td>0.045893</td>\n",
       "      <td>-0.111093</td>\n",
       "      <td>1.000000</td>\n",
       "      <td>0.075095</td>\n",
       "      <td>0.051801</td>\n",
       "      <td>0.067793</td>\n",
       "    </tr>\n",
       "    <tr>\n",
       "      <th>Price_range</th>\n",
       "      <td>-0.134406</td>\n",
       "      <td>0.243401</td>\n",
       "      <td>-0.078980</td>\n",
       "      <td>-0.166659</td>\n",
       "      <td>0.075095</td>\n",
       "      <td>1.000000</td>\n",
       "      <td>0.437869</td>\n",
       "      <td>0.309314</td>\n",
       "    </tr>\n",
       "    <tr>\n",
       "      <th>Aggregate_rating</th>\n",
       "      <td>-0.326113</td>\n",
       "      <td>0.282257</td>\n",
       "      <td>-0.116859</td>\n",
       "      <td>0.000572</td>\n",
       "      <td>0.051801</td>\n",
       "      <td>0.437869</td>\n",
       "      <td>1.000000</td>\n",
       "      <td>0.313613</td>\n",
       "    </tr>\n",
       "    <tr>\n",
       "      <th>Votes</th>\n",
       "      <td>-0.146916</td>\n",
       "      <td>0.154588</td>\n",
       "      <td>-0.085137</td>\n",
       "      <td>-0.022937</td>\n",
       "      <td>0.067793</td>\n",
       "      <td>0.309314</td>\n",
       "      <td>0.313613</td>\n",
       "      <td>1.000000</td>\n",
       "    </tr>\n",
       "  </tbody>\n",
       "</table>\n",
       "</div>"
      ],
      "text/plain": [
       "                      Restaurant_ID  Country_Code  Longitude  Latitude  \\\n",
       "Restaurant_ID              1.000000      0.148426  -0.226061 -0.052161   \n",
       "Country_Code               0.148426      1.000000  -0.698296  0.019767   \n",
       "Longitude                 -0.226061     -0.698296   1.000000  0.043227   \n",
       "Latitude                  -0.052161      0.019767   0.043227  1.000000   \n",
       "Average_Cost_for_two      -0.001700      0.043223   0.045893 -0.111093   \n",
       "Price_range               -0.134406      0.243401  -0.078980 -0.166659   \n",
       "Aggregate_rating          -0.326113      0.282257  -0.116859  0.000572   \n",
       "Votes                     -0.146916      0.154588  -0.085137 -0.022937   \n",
       "\n",
       "                      Average_Cost_for_two  Price_range  Aggregate_rating  \\\n",
       "Restaurant_ID                    -0.001700    -0.134406         -0.326113   \n",
       "Country_Code                      0.043223     0.243401          0.282257   \n",
       "Longitude                         0.045893    -0.078980         -0.116859   \n",
       "Latitude                         -0.111093    -0.166659          0.000572   \n",
       "Average_Cost_for_two              1.000000     0.075095          0.051801   \n",
       "Price_range                       0.075095     1.000000          0.437869   \n",
       "Aggregate_rating                  0.051801     0.437869          1.000000   \n",
       "Votes                             0.067793     0.309314          0.313613   \n",
       "\n",
       "                         Votes  \n",
       "Restaurant_ID        -0.146916  \n",
       "Country_Code          0.154588  \n",
       "Longitude            -0.085137  \n",
       "Latitude             -0.022937  \n",
       "Average_Cost_for_two  0.067793  \n",
       "Price_range           0.309314  \n",
       "Aggregate_rating      0.313613  \n",
       "Votes                 1.000000  "
      ]
     },
     "execution_count": 229,
     "metadata": {},
     "output_type": "execute_result"
    }
   ],
   "source": [
    "#findings factors which have effect on ratings by correlation\n",
    "dc=df.corr()\n",
    "dc"
   ]
  },
  {
   "cell_type": "code",
   "execution_count": 230,
   "id": "3f39f711",
   "metadata": {},
   "outputs": [
    {
     "data": {
      "text/plain": [
       "<AxesSubplot:>"
      ]
     },
     "execution_count": 230,
     "metadata": {},
     "output_type": "execute_result"
    },
    {
     "data": {
      "image/png": "[encoded data removed]",
      "text/plain": [
       "<Figure size 432x288 with 2 Axes>"
      ]
     },
     "metadata": {
      "needs_background": "light"
     },
     "output_type": "display_data"
    }
   ],
   "source": [
    "sns.heatmap(dc)\n"
   ]
  },
  {
   "cell_type": "code",
   "execution_count": 231,
   "id": "f62c6574",
   "metadata": {},
   "outputs": [
    {
     "name": "stderr",
     "output_type": "stream",
     "text": [
      "C:\\Users\\sivar\\anaconda3\\lib\\site-packages\\seaborn\\_decorators.py:36: FutureWarning: Pass the following variables as keyword args: x, y. From version 0.12, the only valid positional argument will be `data`, and passing other arguments without an explicit keyword will result in an error or misinterpretation.\n",
      "  warnings.warn(\n"
     ]
    },
    {
     "data": {
      "text/plain": [
       "<AxesSubplot:xlabel='Has_Table_booking', ylabel='Aggregate_rating'>"
      ]
     },
     "execution_count": 231,
     "metadata": {},
     "output_type": "execute_result"
    },
    {
     "data": {
      "image/png": "[encoded data removed]",
      "text/plain": [
       "<Figure size 432x288 with 1 Axes>"
      ]
     },
     "metadata": {
      "needs_background": "light"
     },
     "output_type": "display_data"
    }
   ],
   "source": [
    "sns.boxplot(df[\"Has_Table_booking\"],df[\"Aggregate_rating\"])"
   ]
  },
  {
   "cell_type": "markdown",
   "id": "4792a06a",
   "metadata": {},
   "source": [
    "Table booking has some impact on rating\n",
    "Only Price range has r=0.4, some relation with ratings"
   ]
  },
  {
   "cell_type": "code",
   "execution_count": 232,
   "id": "da08a949",
   "metadata": {},
   "outputs": [
    {
     "name": "stderr",
     "output_type": "stream",
     "text": [
      "C:\\Users\\sivar\\anaconda3\\lib\\site-packages\\seaborn\\_decorators.py:36: FutureWarning: Pass the following variables as keyword args: x, y. From version 0.12, the only valid positional argument will be `data`, and passing other arguments without an explicit keyword will result in an error or misinterpretation.\n",
      "  warnings.warn(\n"
     ]
    },
    {
     "data": {
      "text/plain": [
       "<AxesSubplot:xlabel='Has_Online_delivery', ylabel='Aggregate_rating'>"
      ]
     },
     "execution_count": 232,
     "metadata": {},
     "output_type": "execute_result"
    },
    {
     "data": {
      "image/png": "[encoded data removed]",
      "text/plain": [
       "<Figure size 432x288 with 1 Axes>"
      ]
     },
     "metadata": {
      "needs_background": "light"
     },
     "output_type": "display_data"
    }
   ],
   "source": [
    "sns.boxplot(df[\"Has_Online_delivery\"],df[\"Aggregate_rating\"])"
   ]
  },
  {
   "cell_type": "markdown",
   "id": "cfdef1ba",
   "metadata": {},
   "source": [
    "Online delivery has impact on rating"
   ]
  },
  {
   "cell_type": "code",
   "execution_count": 233,
   "id": "6601bb4d",
   "metadata": {},
   "outputs": [
    {
     "data": {
      "text/plain": [
       "North Indian                                                     936\n",
       "North Indian, Chinese                                            511\n",
       "Chinese                                                          354\n",
       "Fast Food                                                        353\n",
       "North Indian, Mughlai                                            334\n",
       "                                                                ... \n",
       "Pizza, Mexican, Chinese, Italian                                   1\n",
       "North Indian, Continental, South Indian, Chinese, Thai, Asian      1\n",
       "North Indian, Chinese, Continental, Mediterranean, Asian           1\n",
       "Chinese, Japanese, Thai, Malaysian, Vietnamese, Asian              1\n",
       "Cafe, Bakery, American, Italian                                    1\n",
       "Name: Cuisines, Length: 1826, dtype: int64"
      ]
     },
     "execution_count": 233,
     "metadata": {},
     "output_type": "execute_result"
    }
   ],
   "source": [
    "da=df[\"Cuisines\"].value_counts()\n",
    "da"
   ]
  },
  {
   "cell_type": "code",
   "execution_count": 234,
   "id": "154af2d5",
   "metadata": {},
   "outputs": [],
   "source": [
    "df[\"No_of_cuisines\"]=df[\"Cuisines\"].str.strip().str.split(',').apply(len)"
   ]
  },
  {
   "cell_type": "code",
   "execution_count": 235,
   "id": "d82ab403",
   "metadata": {},
   "outputs": [
    {
     "name": "stderr",
     "output_type": "stream",
     "text": [
      "C:\\Users\\sivar\\anaconda3\\lib\\site-packages\\seaborn\\_decorators.py:36: FutureWarning: Pass the following variables as keyword args: x, y. From version 0.12, the only valid positional argument will be `data`, and passing other arguments without an explicit keyword will result in an error or misinterpretation.\n",
      "  warnings.warn(\n"
     ]
    },
    {
     "data": {
      "text/plain": [
       "<AxesSubplot:xlabel='No_of_cuisines', ylabel='Aggregate_rating'>"
      ]
     },
     "execution_count": 235,
     "metadata": {},
     "output_type": "execute_result"
    },
    {
     "data": {
      "image/png": "[encoded data removed]",
      "text/plain": [
       "<Figure size 432x288 with 1 Axes>"
      ]
     },
     "metadata": {
      "needs_background": "light"
     },
     "output_type": "display_data"
    }
   ],
   "source": [
    "#finding out whether there is any relation between No of cuisines served and rating\n",
    "sns.scatterplot(df[\"No_of_cuisines\"],df[\"Aggregate_rating\"])"
   ]
  },
  {
   "cell_type": "code",
   "execution_count": 236,
   "id": "97910b47",
   "metadata": {},
   "outputs": [
    {
     "name": "stderr",
     "output_type": "stream",
     "text": [
      "C:\\Users\\sivar\\anaconda3\\lib\\site-packages\\seaborn\\_decorators.py:36: FutureWarning: Pass the following variables as keyword args: x, y. From version 0.12, the only valid positional argument will be `data`, and passing other arguments without an explicit keyword will result in an error or misinterpretation.\n",
      "  warnings.warn(\n"
     ]
    },
    {
     "data": {
      "text/plain": [
       "<AxesSubplot:xlabel='No_of_cuisines', ylabel='Aggregate_rating'>"
      ]
     },
     "execution_count": 236,
     "metadata": {},
     "output_type": "execute_result"
    },
    {
     "data": {
      "image/png": "[encoded data removed]",
      "text/plain": [
       "<Figure size 432x288 with 1 Axes>"
      ]
     },
     "metadata": {
      "needs_background": "light"
     },
     "output_type": "display_data"
    }
   ],
   "source": [
    "sns.boxplot(df[\"No_of_cuisines\"],df[\"Aggregate_rating\"])"
   ]
  },
  {
   "cell_type": "markdown",
   "id": "cedffc85",
   "metadata": {},
   "source": [
    "So when no of cuisines are high, rating also high"
   ]
  },
  {
   "cell_type": "code",
   "execution_count": 237,
   "id": "563f1f51",
   "metadata": {},
   "outputs": [],
   "source": [
    "# regression (target -> continuous value)-> linear regression, lasso regression, polynomial regression, ridge regression, l1 regression and l2 regression, SVR\n",
    "# classification (discrete value)-> logistic regression, SVM, naive bais, knn\n",
    "\n",
    "# cart (Classification And Regression Trees)-> decision tree, random forest, neural network (deep learning)\n",
    "\n",
    "# accuracy analysis - https://scikit-learn.org/stable/modules/model_evaluation.html"
   ]
  },
  {
   "cell_type": "markdown",
   "id": "0a9dfdb9",
   "metadata": {},
   "source": [
    "# Model Building"
   ]
  },
  {
   "cell_type": "code",
   "execution_count": 238,
   "id": "a6723696",
   "metadata": {},
   "outputs": [
    {
     "data": {
      "text/html": [
       "<div>\n",
       "<style scoped>\n",
       "    .dataframe tbody tr th:only-of-type {\n",
       "        vertical-align: middle;\n",
       "    }\n",
       "\n",
       "    .dataframe tbody tr th {\n",
       "        vertical-align: top;\n",
       "    }\n",
       "\n",
       "    .dataframe thead th {\n",
       "        text-align: right;\n",
       "    }\n",
       "</style>\n",
       "<table border=\"1\" class=\"dataframe\">\n",
       "  <thead>\n",
       "    <tr style=\"text-align: right;\">\n",
       "      <th></th>\n",
       "      <th>Restaurant_ID</th>\n",
       "      <th>Restaurant_Name</th>\n",
       "      <th>Country_Code</th>\n",
       "      <th>City</th>\n",
       "      <th>Address</th>\n",
       "      <th>Locality</th>\n",
       "      <th>Locality_Verbose</th>\n",
       "      <th>Longitude</th>\n",
       "      <th>Latitude</th>\n",
       "      <th>Cuisines</th>\n",
       "      <th>...</th>\n",
       "      <th>Currency</th>\n",
       "      <th>Has_Table_booking</th>\n",
       "      <th>Has_Online_delivery</th>\n",
       "      <th>Price_range</th>\n",
       "      <th>Aggregate_rating</th>\n",
       "      <th>Rating_color</th>\n",
       "      <th>Rating_text</th>\n",
       "      <th>Votes</th>\n",
       "      <th>Country</th>\n",
       "      <th>No_of_cuisines</th>\n",
       "    </tr>\n",
       "  </thead>\n",
       "  <tbody>\n",
       "    <tr>\n",
       "      <th>0</th>\n",
       "      <td>18490967</td>\n",
       "      <td>Let's Burrrp</td>\n",
       "      <td>1</td>\n",
       "      <td>Noida</td>\n",
       "      <td>Bs-10, Sector 70, Near Sector 70, Noida</td>\n",
       "      <td>Sector 71</td>\n",
       "      <td>Sector 71, Noida</td>\n",
       "      <td>0.000000</td>\n",
       "      <td>0.000000</td>\n",
       "      <td>Chinese, North Indian</td>\n",
       "      <td>...</td>\n",
       "      <td>Indian Rupees(Rs.)</td>\n",
       "      <td>No</td>\n",
       "      <td>No</td>\n",
       "      <td>1</td>\n",
       "      <td>0.0</td>\n",
       "      <td>White</td>\n",
       "      <td>Not rated</td>\n",
       "      <td>0</td>\n",
       "      <td>India</td>\n",
       "      <td>2</td>\n",
       "    </tr>\n",
       "    <tr>\n",
       "      <th>1</th>\n",
       "      <td>3100446</td>\n",
       "      <td>#45</td>\n",
       "      <td>1</td>\n",
       "      <td>Mangalore</td>\n",
       "      <td>Ground Floor, Trinity Commercial Complex, Near...</td>\n",
       "      <td>Attavar</td>\n",
       "      <td>Attavar, Mangalore</td>\n",
       "      <td>0.000000</td>\n",
       "      <td>0.000000</td>\n",
       "      <td>Cafe</td>\n",
       "      <td>...</td>\n",
       "      <td>Indian Rupees(Rs.)</td>\n",
       "      <td>No</td>\n",
       "      <td>No</td>\n",
       "      <td>2</td>\n",
       "      <td>3.6</td>\n",
       "      <td>Yellow</td>\n",
       "      <td>Good</td>\n",
       "      <td>209</td>\n",
       "      <td>India</td>\n",
       "      <td>1</td>\n",
       "    </tr>\n",
       "    <tr>\n",
       "      <th>2</th>\n",
       "      <td>18378803</td>\n",
       "      <td>#Dilliwaala6</td>\n",
       "      <td>1</td>\n",
       "      <td>Puducherry</td>\n",
       "      <td>6, Rue De La Marine, White Town, Puducherry</td>\n",
       "      <td>White Town</td>\n",
       "      <td>White Town, Puducherry</td>\n",
       "      <td>79.834810</td>\n",
       "      <td>11.936532</td>\n",
       "      <td>North Indian</td>\n",
       "      <td>...</td>\n",
       "      <td>Indian Rupees(Rs.)</td>\n",
       "      <td>No</td>\n",
       "      <td>No</td>\n",
       "      <td>3</td>\n",
       "      <td>3.7</td>\n",
       "      <td>Yellow</td>\n",
       "      <td>Good</td>\n",
       "      <td>124</td>\n",
       "      <td>India</td>\n",
       "      <td>1</td>\n",
       "    </tr>\n",
       "    <tr>\n",
       "      <th>3</th>\n",
       "      <td>18489842</td>\n",
       "      <td>#hashtag</td>\n",
       "      <td>1</td>\n",
       "      <td>New Delhi</td>\n",
       "      <td>1092/1, Mehrauli Bus Stand, Mehrauli, New Delhi</td>\n",
       "      <td>Mehrauli</td>\n",
       "      <td>Mehrauli, New Delhi</td>\n",
       "      <td>77.181865</td>\n",
       "      <td>28.522205</td>\n",
       "      <td>Cafe</td>\n",
       "      <td>...</td>\n",
       "      <td>Indian Rupees(Rs.)</td>\n",
       "      <td>No</td>\n",
       "      <td>No</td>\n",
       "      <td>2</td>\n",
       "      <td>0.0</td>\n",
       "      <td>White</td>\n",
       "      <td>Not rated</td>\n",
       "      <td>0</td>\n",
       "      <td>India</td>\n",
       "      <td>1</td>\n",
       "    </tr>\n",
       "    <tr>\n",
       "      <th>4</th>\n",
       "      <td>18311951</td>\n",
       "      <td>#InstaFreeze</td>\n",
       "      <td>1</td>\n",
       "      <td>New Delhi</td>\n",
       "      <td>B-17, Alaknanda Shopping Complex, Alaknanda, N...</td>\n",
       "      <td>Alaknanda</td>\n",
       "      <td>Alaknanda, New Delhi</td>\n",
       "      <td>77.253694</td>\n",
       "      <td>28.525420</td>\n",
       "      <td>Ice Cream</td>\n",
       "      <td>...</td>\n",
       "      <td>Indian Rupees(Rs.)</td>\n",
       "      <td>No</td>\n",
       "      <td>No</td>\n",
       "      <td>1</td>\n",
       "      <td>0.0</td>\n",
       "      <td>White</td>\n",
       "      <td>Not rated</td>\n",
       "      <td>2</td>\n",
       "      <td>India</td>\n",
       "      <td>1</td>\n",
       "    </tr>\n",
       "  </tbody>\n",
       "</table>\n",
       "<p>5 rows × 21 columns</p>\n",
       "</div>"
      ],
      "text/plain": [
       "   Restaurant_ID Restaurant_Name  Country_Code        City  \\\n",
       "0       18490967    Let's Burrrp             1       Noida   \n",
       "1        3100446             #45             1   Mangalore   \n",
       "2       18378803    #Dilliwaala6             1  Puducherry   \n",
       "3       18489842        #hashtag             1   New Delhi   \n",
       "4       18311951    #InstaFreeze             1   New Delhi   \n",
       "\n",
       "                                             Address    Locality  \\\n",
       "0            Bs-10, Sector 70, Near Sector 70, Noida   Sector 71   \n",
       "1  Ground Floor, Trinity Commercial Complex, Near...     Attavar   \n",
       "2        6, Rue De La Marine, White Town, Puducherry  White Town   \n",
       "3    1092/1, Mehrauli Bus Stand, Mehrauli, New Delhi    Mehrauli   \n",
       "4  B-17, Alaknanda Shopping Complex, Alaknanda, N...   Alaknanda   \n",
       "\n",
       "         Locality_Verbose  Longitude   Latitude               Cuisines  ...  \\\n",
       "0        Sector 71, Noida   0.000000   0.000000  Chinese, North Indian  ...   \n",
       "1      Attavar, Mangalore   0.000000   0.000000                   Cafe  ...   \n",
       "2  White Town, Puducherry  79.834810  11.936532           North Indian  ...   \n",
       "3     Mehrauli, New Delhi  77.181865  28.522205                   Cafe  ...   \n",
       "4    Alaknanda, New Delhi  77.253694  28.525420              Ice Cream  ...   \n",
       "\n",
       "             Currency Has_Table_booking Has_Online_delivery Price_range  \\\n",
       "0  Indian Rupees(Rs.)                No                  No           1   \n",
       "1  Indian Rupees(Rs.)                No                  No           2   \n",
       "2  Indian Rupees(Rs.)                No                  No           3   \n",
       "3  Indian Rupees(Rs.)                No                  No           2   \n",
       "4  Indian Rupees(Rs.)                No                  No           1   \n",
       "\n",
       "   Aggregate_rating  Rating_color Rating_text Votes  Country No_of_cuisines  \n",
       "0               0.0         White   Not rated     0    India              2  \n",
       "1               3.6        Yellow        Good   209    India              1  \n",
       "2               3.7        Yellow        Good   124    India              1  \n",
       "3               0.0         White   Not rated     0    India              1  \n",
       "4               0.0         White   Not rated     2    India              1  \n",
       "\n",
       "[5 rows x 21 columns]"
      ]
     },
     "execution_count": 238,
     "metadata": {},
     "output_type": "execute_result"
    }
   ],
   "source": [
    "df_copy=df.copy()\n",
    "df_copy.head()"
   ]
  },
  {
   "cell_type": "code",
   "execution_count": 239,
   "id": "7485b121",
   "metadata": {},
   "outputs": [
    {
     "data": {
      "text/html": [
       "<div>\n",
       "<style scoped>\n",
       "    .dataframe tbody tr th:only-of-type {\n",
       "        vertical-align: middle;\n",
       "    }\n",
       "\n",
       "    .dataframe tbody tr th {\n",
       "        vertical-align: top;\n",
       "    }\n",
       "\n",
       "    .dataframe thead th {\n",
       "        text-align: right;\n",
       "    }\n",
       "</style>\n",
       "<table border=\"1\" class=\"dataframe\">\n",
       "  <thead>\n",
       "    <tr style=\"text-align: right;\">\n",
       "      <th></th>\n",
       "      <th>Restaurant_ID</th>\n",
       "      <th>Restaurant_Name</th>\n",
       "      <th>City</th>\n",
       "      <th>Cuisines</th>\n",
       "      <th>Average_Cost_for_two</th>\n",
       "      <th>Currency</th>\n",
       "      <th>Has_Table_booking</th>\n",
       "      <th>Has_Online_delivery</th>\n",
       "      <th>Price_range</th>\n",
       "      <th>Aggregate_rating</th>\n",
       "      <th>Votes</th>\n",
       "      <th>No_of_cuisines</th>\n",
       "    </tr>\n",
       "  </thead>\n",
       "  <tbody>\n",
       "    <tr>\n",
       "      <th>0</th>\n",
       "      <td>18490967</td>\n",
       "      <td>Let's Burrrp</td>\n",
       "      <td>Noida</td>\n",
       "      <td>Chinese, North Indian</td>\n",
       "      <td>400</td>\n",
       "      <td>Indian Rupees(Rs.)</td>\n",
       "      <td>No</td>\n",
       "      <td>No</td>\n",
       "      <td>1</td>\n",
       "      <td>0.0</td>\n",
       "      <td>0</td>\n",
       "      <td>2</td>\n",
       "    </tr>\n",
       "    <tr>\n",
       "      <th>1</th>\n",
       "      <td>3100446</td>\n",
       "      <td>#45</td>\n",
       "      <td>Mangalore</td>\n",
       "      <td>Cafe</td>\n",
       "      <td>600</td>\n",
       "      <td>Indian Rupees(Rs.)</td>\n",
       "      <td>No</td>\n",
       "      <td>No</td>\n",
       "      <td>2</td>\n",
       "      <td>3.6</td>\n",
       "      <td>209</td>\n",
       "      <td>1</td>\n",
       "    </tr>\n",
       "    <tr>\n",
       "      <th>2</th>\n",
       "      <td>18378803</td>\n",
       "      <td>#Dilliwaala6</td>\n",
       "      <td>Puducherry</td>\n",
       "      <td>North Indian</td>\n",
       "      <td>800</td>\n",
       "      <td>Indian Rupees(Rs.)</td>\n",
       "      <td>No</td>\n",
       "      <td>No</td>\n",
       "      <td>3</td>\n",
       "      <td>3.7</td>\n",
       "      <td>124</td>\n",
       "      <td>1</td>\n",
       "    </tr>\n",
       "    <tr>\n",
       "      <th>3</th>\n",
       "      <td>18489842</td>\n",
       "      <td>#hashtag</td>\n",
       "      <td>New Delhi</td>\n",
       "      <td>Cafe</td>\n",
       "      <td>500</td>\n",
       "      <td>Indian Rupees(Rs.)</td>\n",
       "      <td>No</td>\n",
       "      <td>No</td>\n",
       "      <td>2</td>\n",
       "      <td>0.0</td>\n",
       "      <td>0</td>\n",
       "      <td>1</td>\n",
       "    </tr>\n",
       "    <tr>\n",
       "      <th>4</th>\n",
       "      <td>18311951</td>\n",
       "      <td>#InstaFreeze</td>\n",
       "      <td>New Delhi</td>\n",
       "      <td>Ice Cream</td>\n",
       "      <td>300</td>\n",
       "      <td>Indian Rupees(Rs.)</td>\n",
       "      <td>No</td>\n",
       "      <td>No</td>\n",
       "      <td>1</td>\n",
       "      <td>0.0</td>\n",
       "      <td>2</td>\n",
       "      <td>1</td>\n",
       "    </tr>\n",
       "  </tbody>\n",
       "</table>\n",
       "</div>"
      ],
      "text/plain": [
       "   Restaurant_ID Restaurant_Name        City               Cuisines  \\\n",
       "0       18490967    Let's Burrrp       Noida  Chinese, North Indian   \n",
       "1        3100446             #45   Mangalore                   Cafe   \n",
       "2       18378803    #Dilliwaala6  Puducherry           North Indian   \n",
       "3       18489842        #hashtag   New Delhi                   Cafe   \n",
       "4       18311951    #InstaFreeze   New Delhi              Ice Cream   \n",
       "\n",
       "   Average_Cost_for_two            Currency Has_Table_booking  \\\n",
       "0                   400  Indian Rupees(Rs.)                No   \n",
       "1                   600  Indian Rupees(Rs.)                No   \n",
       "2                   800  Indian Rupees(Rs.)                No   \n",
       "3                   500  Indian Rupees(Rs.)                No   \n",
       "4                   300  Indian Rupees(Rs.)                No   \n",
       "\n",
       "  Has_Online_delivery  Price_range  Aggregate_rating  Votes  No_of_cuisines  \n",
       "0                  No            1               0.0      0               2  \n",
       "1                  No            2               3.6    209               1  \n",
       "2                  No            3               3.7    124               1  \n",
       "3                  No            2               0.0      0               1  \n",
       "4                  No            1               0.0      2               1  "
      ]
     },
     "execution_count": 239,
     "metadata": {},
     "output_type": "execute_result"
    }
   ],
   "source": [
    "#dropping columns\n",
    "df_copy.drop(columns=[\"Address\",\"Locality\",\"Locality_Verbose\",\"Longitude\",\"Latitude\",\"Rating_color\",\"Rating_text\",\"Country\",\"Country_Code\"],inplace=True)\n",
    "df_copy.head()"
   ]
  },
  {
   "cell_type": "code",
   "execution_count": 240,
   "id": "90a8bcf4",
   "metadata": {},
   "outputs": [],
   "source": [
    "df_copy.drop(columns=[\"Restaurant_ID\",\"Price_range\",\"Votes\"],inplace=True)"
   ]
  },
  {
   "cell_type": "code",
   "execution_count": 241,
   "id": "33c9e61c",
   "metadata": {},
   "outputs": [
    {
     "data": {
      "text/plain": [
       "Index(['Restaurant_Name', 'City', 'Cuisines', 'Average_Cost_for_two',\n",
       "       'Currency', 'Has_Table_booking', 'Has_Online_delivery',\n",
       "       'Aggregate_rating', 'No_of_cuisines'],\n",
       "      dtype='object')"
      ]
     },
     "execution_count": 241,
     "metadata": {},
     "output_type": "execute_result"
    }
   ],
   "source": [
    "df_copy.columns"
   ]
  },
  {
   "cell_type": "code",
   "execution_count": 242,
   "id": "4d6320ab",
   "metadata": {},
   "outputs": [
    {
     "data": {
      "text/html": [
       "<div>\n",
       "<style scoped>\n",
       "    .dataframe tbody tr th:only-of-type {\n",
       "        vertical-align: middle;\n",
       "    }\n",
       "\n",
       "    .dataframe tbody tr th {\n",
       "        vertical-align: top;\n",
       "    }\n",
       "\n",
       "    .dataframe thead th {\n",
       "        text-align: right;\n",
       "    }\n",
       "</style>\n",
       "<table border=\"1\" class=\"dataframe\">\n",
       "  <thead>\n",
       "    <tr style=\"text-align: right;\">\n",
       "      <th></th>\n",
       "      <th>Restaurant_Name</th>\n",
       "      <th>City</th>\n",
       "      <th>Cuisines</th>\n",
       "      <th>Average_Cost_for_two</th>\n",
       "      <th>Currency</th>\n",
       "      <th>Has_Table_booking</th>\n",
       "      <th>Has_Online_delivery</th>\n",
       "      <th>Aggregate_rating</th>\n",
       "      <th>No_of_cuisines</th>\n",
       "    </tr>\n",
       "  </thead>\n",
       "  <tbody>\n",
       "    <tr>\n",
       "      <th>0</th>\n",
       "      <td>Let's Burrrp</td>\n",
       "      <td>Noida</td>\n",
       "      <td>Chinese, North Indian</td>\n",
       "      <td>400</td>\n",
       "      <td>Indian Rupees(Rs.)</td>\n",
       "      <td>No</td>\n",
       "      <td>No</td>\n",
       "      <td>0.0</td>\n",
       "      <td>2</td>\n",
       "    </tr>\n",
       "    <tr>\n",
       "      <th>1</th>\n",
       "      <td>#45</td>\n",
       "      <td>Mangalore</td>\n",
       "      <td>Cafe</td>\n",
       "      <td>600</td>\n",
       "      <td>Indian Rupees(Rs.)</td>\n",
       "      <td>No</td>\n",
       "      <td>No</td>\n",
       "      <td>3.6</td>\n",
       "      <td>1</td>\n",
       "    </tr>\n",
       "    <tr>\n",
       "      <th>2</th>\n",
       "      <td>#Dilliwaala6</td>\n",
       "      <td>Puducherry</td>\n",
       "      <td>North Indian</td>\n",
       "      <td>800</td>\n",
       "      <td>Indian Rupees(Rs.)</td>\n",
       "      <td>No</td>\n",
       "      <td>No</td>\n",
       "      <td>3.7</td>\n",
       "      <td>1</td>\n",
       "    </tr>\n",
       "    <tr>\n",
       "      <th>3</th>\n",
       "      <td>#hashtag</td>\n",
       "      <td>New Delhi</td>\n",
       "      <td>Cafe</td>\n",
       "      <td>500</td>\n",
       "      <td>Indian Rupees(Rs.)</td>\n",
       "      <td>No</td>\n",
       "      <td>No</td>\n",
       "      <td>0.0</td>\n",
       "      <td>1</td>\n",
       "    </tr>\n",
       "    <tr>\n",
       "      <th>4</th>\n",
       "      <td>#InstaFreeze</td>\n",
       "      <td>New Delhi</td>\n",
       "      <td>Ice Cream</td>\n",
       "      <td>300</td>\n",
       "      <td>Indian Rupees(Rs.)</td>\n",
       "      <td>No</td>\n",
       "      <td>No</td>\n",
       "      <td>0.0</td>\n",
       "      <td>1</td>\n",
       "    </tr>\n",
       "    <tr>\n",
       "      <th>...</th>\n",
       "      <td>...</td>\n",
       "      <td>...</td>\n",
       "      <td>...</td>\n",
       "      <td>...</td>\n",
       "      <td>...</td>\n",
       "      <td>...</td>\n",
       "      <td>...</td>\n",
       "      <td>...</td>\n",
       "      <td>...</td>\n",
       "    </tr>\n",
       "    <tr>\n",
       "      <th>9544</th>\n",
       "      <td>Sodam Korean Restaurant</td>\n",
       "      <td>San Juan City</td>\n",
       "      <td>Korean</td>\n",
       "      <td>700</td>\n",
       "      <td>Botswana Pula(P)</td>\n",
       "      <td>No</td>\n",
       "      <td>No</td>\n",
       "      <td>4.3</td>\n",
       "      <td>1</td>\n",
       "    </tr>\n",
       "    <tr>\n",
       "      <th>9545</th>\n",
       "      <td>Spiral - Sofitel Philippine Plaza Manila</td>\n",
       "      <td>Pasay City</td>\n",
       "      <td>European, Asian, Indian</td>\n",
       "      <td>6000</td>\n",
       "      <td>Botswana Pula(P)</td>\n",
       "      <td>Yes</td>\n",
       "      <td>No</td>\n",
       "      <td>4.9</td>\n",
       "      <td>3</td>\n",
       "    </tr>\n",
       "    <tr>\n",
       "      <th>9546</th>\n",
       "      <td>The Food Hall by Todd English</td>\n",
       "      <td>Taguig City</td>\n",
       "      <td>American, Asian, Italian, Seafood</td>\n",
       "      <td>1800</td>\n",
       "      <td>Botswana Pula(P)</td>\n",
       "      <td>Yes</td>\n",
       "      <td>No</td>\n",
       "      <td>4.5</td>\n",
       "      <td>4</td>\n",
       "    </tr>\n",
       "    <tr>\n",
       "      <th>9547</th>\n",
       "      <td>Vikings</td>\n",
       "      <td>Pasay City</td>\n",
       "      <td>Seafood, Filipino, Asian, European</td>\n",
       "      <td>2000</td>\n",
       "      <td>Botswana Pula(P)</td>\n",
       "      <td>Yes</td>\n",
       "      <td>No</td>\n",
       "      <td>4.2</td>\n",
       "      <td>4</td>\n",
       "    </tr>\n",
       "    <tr>\n",
       "      <th>9548</th>\n",
       "      <td>Wildflour Cafe + Bakery</td>\n",
       "      <td>Taguig City</td>\n",
       "      <td>Cafe, Bakery, American, Italian</td>\n",
       "      <td>1500</td>\n",
       "      <td>Botswana Pula(P)</td>\n",
       "      <td>Yes</td>\n",
       "      <td>No</td>\n",
       "      <td>4.4</td>\n",
       "      <td>4</td>\n",
       "    </tr>\n",
       "  </tbody>\n",
       "</table>\n",
       "<p>9549 rows × 9 columns</p>\n",
       "</div>"
      ],
      "text/plain": [
       "                               Restaurant_Name           City  \\\n",
       "0                                 Let's Burrrp          Noida   \n",
       "1                                          #45      Mangalore   \n",
       "2                                 #Dilliwaala6     Puducherry   \n",
       "3                                     #hashtag      New Delhi   \n",
       "4                                 #InstaFreeze      New Delhi   \n",
       "...                                        ...            ...   \n",
       "9544                   Sodam Korean Restaurant  San Juan City   \n",
       "9545  Spiral - Sofitel Philippine Plaza Manila     Pasay City   \n",
       "9546             The Food Hall by Todd English    Taguig City   \n",
       "9547                                   Vikings     Pasay City   \n",
       "9548                   Wildflour Cafe + Bakery    Taguig City   \n",
       "\n",
       "                                Cuisines  Average_Cost_for_two  \\\n",
       "0                  Chinese, North Indian                   400   \n",
       "1                                   Cafe                   600   \n",
       "2                           North Indian                   800   \n",
       "3                                   Cafe                   500   \n",
       "4                              Ice Cream                   300   \n",
       "...                                  ...                   ...   \n",
       "9544                              Korean                   700   \n",
       "9545             European, Asian, Indian                  6000   \n",
       "9546   American, Asian, Italian, Seafood                  1800   \n",
       "9547  Seafood, Filipino, Asian, European                  2000   \n",
       "9548     Cafe, Bakery, American, Italian                  1500   \n",
       "\n",
       "                Currency Has_Table_booking Has_Online_delivery  \\\n",
       "0     Indian Rupees(Rs.)                No                  No   \n",
       "1     Indian Rupees(Rs.)                No                  No   \n",
       "2     Indian Rupees(Rs.)                No                  No   \n",
       "3     Indian Rupees(Rs.)                No                  No   \n",
       "4     Indian Rupees(Rs.)                No                  No   \n",
       "...                  ...               ...                 ...   \n",
       "9544    Botswana Pula(P)                No                  No   \n",
       "9545    Botswana Pula(P)               Yes                  No   \n",
       "9546    Botswana Pula(P)               Yes                  No   \n",
       "9547    Botswana Pula(P)               Yes                  No   \n",
       "9548    Botswana Pula(P)               Yes                  No   \n",
       "\n",
       "      Aggregate_rating  No_of_cuisines  \n",
       "0                  0.0               2  \n",
       "1                  3.6               1  \n",
       "2                  3.7               1  \n",
       "3                  0.0               1  \n",
       "4                  0.0               1  \n",
       "...                ...             ...  \n",
       "9544               4.3               1  \n",
       "9545               4.9               3  \n",
       "9546               4.5               4  \n",
       "9547               4.2               4  \n",
       "9548               4.4               4  \n",
       "\n",
       "[9549 rows x 9 columns]"
      ]
     },
     "execution_count": 242,
     "metadata": {},
     "output_type": "execute_result"
    }
   ],
   "source": [
    "df_copy"
   ]
  },
  {
   "cell_type": "code",
   "execution_count": 243,
   "id": "3747d466",
   "metadata": {},
   "outputs": [
    {
     "data": {
      "text/plain": [
       "Restaurant_Name         0\n",
       "City                    0\n",
       "Cuisines                0\n",
       "Average_Cost_for_two    0\n",
       "Currency                0\n",
       "Has_Table_booking       0\n",
       "Has_Online_delivery     0\n",
       "Aggregate_rating        0\n",
       "No_of_cuisines          0\n",
       "dtype: int64"
      ]
     },
     "execution_count": 243,
     "metadata": {},
     "output_type": "execute_result"
    }
   ],
   "source": [
    "df_copy.isnull().sum()"
   ]
  },
  {
   "cell_type": "code",
   "execution_count": 244,
   "id": "97c22887",
   "metadata": {},
   "outputs": [
    {
     "name": "stdout",
     "output_type": "stream",
     "text": [
      "<class 'pandas.core.frame.DataFrame'>\n",
      "RangeIndex: 9549 entries, 0 to 9548\n",
      "Data columns (total 9 columns):\n",
      " #   Column                Non-Null Count  Dtype  \n",
      "---  ------                --------------  -----  \n",
      " 0   Restaurant_Name       9549 non-null   object \n",
      " 1   City                  9549 non-null   object \n",
      " 2   Cuisines              9549 non-null   object \n",
      " 3   Average_Cost_for_two  9549 non-null   int64  \n",
      " 4   Currency              9549 non-null   object \n",
      " 5   Has_Table_booking     9549 non-null   object \n",
      " 6   Has_Online_delivery   9549 non-null   object \n",
      " 7   Aggregate_rating      9549 non-null   float64\n",
      " 8   No_of_cuisines        9549 non-null   int64  \n",
      "dtypes: float64(1), int64(2), object(6)\n",
      "memory usage: 671.5+ KB\n"
     ]
    }
   ],
   "source": [
    "df_copy.info()"
   ]
  },
  {
   "cell_type": "code",
   "execution_count": 245,
   "id": "5f4c8b54",
   "metadata": {},
   "outputs": [],
   "source": [
    "cat = ['Restaurant_Name', 'City', 'Cuisines','Currency','Has_Table_booking', 'Has_Online_delivery']"
   ]
  },
  {
   "cell_type": "code",
   "execution_count": 246,
   "id": "443d244c",
   "metadata": {},
   "outputs": [
    {
     "data": {
      "text/html": [
       "<div>\n",
       "<style scoped>\n",
       "    .dataframe tbody tr th:only-of-type {\n",
       "        vertical-align: middle;\n",
       "    }\n",
       "\n",
       "    .dataframe tbody tr th {\n",
       "        vertical-align: top;\n",
       "    }\n",
       "\n",
       "    .dataframe thead th {\n",
       "        text-align: right;\n",
       "    }\n",
       "</style>\n",
       "<table border=\"1\" class=\"dataframe\">\n",
       "  <thead>\n",
       "    <tr style=\"text-align: right;\">\n",
       "      <th></th>\n",
       "      <th>Restaurant_Name</th>\n",
       "      <th>City</th>\n",
       "      <th>Cuisines</th>\n",
       "      <th>Average_Cost_for_two</th>\n",
       "      <th>Currency</th>\n",
       "      <th>Has_Table_booking</th>\n",
       "      <th>Has_Online_delivery</th>\n",
       "      <th>Aggregate_rating</th>\n",
       "      <th>No_of_cuisines</th>\n",
       "    </tr>\n",
       "  </thead>\n",
       "  <tbody>\n",
       "    <tr>\n",
       "      <th>0</th>\n",
       "      <td>0</td>\n",
       "      <td>89</td>\n",
       "      <td>549</td>\n",
       "      <td>400</td>\n",
       "      <td>4</td>\n",
       "      <td>0</td>\n",
       "      <td>0</td>\n",
       "      <td>0.0</td>\n",
       "      <td>2</td>\n",
       "    </tr>\n",
       "    <tr>\n",
       "      <th>1</th>\n",
       "      <td>1</td>\n",
       "      <td>76</td>\n",
       "      <td>331</td>\n",
       "      <td>600</td>\n",
       "      <td>4</td>\n",
       "      <td>0</td>\n",
       "      <td>0</td>\n",
       "      <td>3.6</td>\n",
       "      <td>1</td>\n",
       "    </tr>\n",
       "    <tr>\n",
       "      <th>2</th>\n",
       "      <td>2</td>\n",
       "      <td>105</td>\n",
       "      <td>1306</td>\n",
       "      <td>800</td>\n",
       "      <td>4</td>\n",
       "      <td>0</td>\n",
       "      <td>0</td>\n",
       "      <td>3.7</td>\n",
       "      <td>1</td>\n",
       "    </tr>\n",
       "    <tr>\n",
       "      <th>3</th>\n",
       "      <td>6</td>\n",
       "      <td>88</td>\n",
       "      <td>331</td>\n",
       "      <td>500</td>\n",
       "      <td>4</td>\n",
       "      <td>0</td>\n",
       "      <td>0</td>\n",
       "      <td>0.0</td>\n",
       "      <td>1</td>\n",
       "    </tr>\n",
       "    <tr>\n",
       "      <th>4</th>\n",
       "      <td>3</td>\n",
       "      <td>88</td>\n",
       "      <td>982</td>\n",
       "      <td>300</td>\n",
       "      <td>4</td>\n",
       "      <td>0</td>\n",
       "      <td>0</td>\n",
       "      <td>0.0</td>\n",
       "      <td>1</td>\n",
       "    </tr>\n",
       "  </tbody>\n",
       "</table>\n",
       "</div>"
      ],
      "text/plain": [
       "   Restaurant_Name  City  Cuisines  Average_Cost_for_two  Currency  \\\n",
       "0                0    89       549                   400         4   \n",
       "1                1    76       331                   600         4   \n",
       "2                2   105      1306                   800         4   \n",
       "3                6    88       331                   500         4   \n",
       "4                3    88       982                   300         4   \n",
       "\n",
       "   Has_Table_booking  Has_Online_delivery  Aggregate_rating  No_of_cuisines  \n",
       "0                  0                    0               0.0               2  \n",
       "1                  0                    0               3.6               1  \n",
       "2                  0                    0               3.7               1  \n",
       "3                  0                    0               0.0               1  \n",
       "4                  0                    0               0.0               1  "
      ]
     },
     "execution_count": 246,
     "metadata": {},
     "output_type": "execute_result"
    }
   ],
   "source": [
    "from sklearn.preprocessing import LabelEncoder\n",
    "le = LabelEncoder()\n",
    "for i in cat:\n",
    "    \n",
    "    df_copy[i] = le.fit_transform(df_copy[i])\n",
    "df_copy.head()"
   ]
  },
  {
   "cell_type": "code",
   "execution_count": 248,
   "id": "6949111a",
   "metadata": {},
   "outputs": [],
   "source": [
    "X = df_copy.drop([\"Aggregate_rating\"],axis=1)\n",
    "y = df_copy[\"Aggregate_rating\"]"
   ]
  },
  {
   "cell_type": "code",
   "execution_count": 249,
   "id": "a9806a8f",
   "metadata": {},
   "outputs": [],
   "source": [
    "from sklearn.model_selection import train_test_split\n",
    "X_train,X_test,y_train,y_test = train_test_split(X,y,test_size = 0.2,random_state = 1234)"
   ]
  },
  {
   "cell_type": "code",
   "execution_count": 250,
   "id": "2bbe2750",
   "metadata": {},
   "outputs": [
    {
     "data": {
      "text/plain": [
       "((7639, 8), (1910, 8), (7639,), (1910,))"
      ]
     },
     "execution_count": 250,
     "metadata": {},
     "output_type": "execute_result"
    }
   ],
   "source": [
    "X_train.shape , X_test.shape , y_train.shape , y_test.shape"
   ]
  },
  {
   "cell_type": "code",
   "execution_count": 251,
   "id": "e0789bbe",
   "metadata": {},
   "outputs": [
    {
     "data": {
      "text/plain": [
       "LinearRegression()"
      ]
     },
     "execution_count": 251,
     "metadata": {},
     "output_type": "execute_result"
    }
   ],
   "source": [
    "from sklearn.linear_model import LinearRegression\n",
    "from sklearn.metrics import accuracy_score\n",
    "lm = LinearRegression()\n",
    "lm.fit(X_train,y_train)"
   ]
  },
  {
   "cell_type": "code",
   "execution_count": 252,
   "id": "ccd162e0",
   "metadata": {},
   "outputs": [
    {
     "data": {
      "text/plain": [
       "array([1.98701344, 3.06762122, 2.63032612, ..., 3.7316855 , 2.48073851,\n",
       "       2.7378627 ])"
      ]
     },
     "execution_count": 252,
     "metadata": {},
     "output_type": "execute_result"
    }
   ],
   "source": [
    "y_predicted=lm.predict(X_train)\n",
    "y_predicted_train=y_predicted\n",
    "y_predicted_train"
   ]
  },
  {
   "cell_type": "code",
   "execution_count": 253,
   "id": "1bec4a53",
   "metadata": {},
   "outputs": [
    {
     "data": {
      "text/plain": [
       "array([2.90297816, 2.75918442, 2.7360493 , ..., 2.72629987, 2.1557163 ,\n",
       "       2.99246168])"
      ]
     },
     "execution_count": 253,
     "metadata": {},
     "output_type": "execute_result"
    }
   ],
   "source": [
    "y_predicted=lm.predict(X_test)\n",
    "y_predicted_test=y_predicted\n",
    "y_predicted_test"
   ]
  },
  {
   "cell_type": "code",
   "execution_count": 254,
   "id": "b657e81c",
   "metadata": {},
   "outputs": [
    {
     "data": {
      "text/plain": [
       "1.0"
      ]
     },
     "execution_count": 254,
     "metadata": {},
     "output_type": "execute_result"
    }
   ],
   "source": [
    "lm.score(X_train,y_predicted_train)"
   ]
  },
  {
   "cell_type": "code",
   "execution_count": 255,
   "id": "e9683b1f",
   "metadata": {},
   "outputs": [
    {
     "data": {
      "text/plain": [
       "1.0"
      ]
     },
     "execution_count": 255,
     "metadata": {},
     "output_type": "execute_result"
    }
   ],
   "source": [
    "lm.score(X_test,y_predicted_test)"
   ]
  },
  {
   "cell_type": "code",
   "execution_count": 256,
   "id": "30c7ac87",
   "metadata": {},
   "outputs": [
    {
     "name": "stdout",
     "output_type": "stream",
     "text": [
      "The R2 value of the Training Set is : 1.0\n"
     ]
    }
   ],
   "source": [
    "from sklearn.metrics import mean_squared_error as mse\n",
    "R2_train = round(lm.score(X_train,y_predicted_train),3)\n",
    "print(\"The R2 value of the Training Set is : {}\".format(R2_train))"
   ]
  },
  {
   "cell_type": "code",
   "execution_count": 257,
   "id": "be13f9c4",
   "metadata": {},
   "outputs": [
    {
     "name": "stdout",
     "output_type": "stream",
     "text": [
      "The R2 value of the Training Set is : 1.0\n"
     ]
    }
   ],
   "source": [
    "from sklearn.metrics import mean_squared_error as mse\n",
    "R2_train = round(lm.score(X_test, y_predicted_test),3)\n",
    "print(\"The R2 value of the Training Set is : {}\".format(R2_train))"
   ]
  },
  {
   "cell_type": "code",
   "execution_count": 258,
   "id": "7cb4871d",
   "metadata": {},
   "outputs": [],
   "source": [
    "import pickle\n",
    "pickle.dump(lm, open('StarRestaurant_prediction1.pkl', 'wb'))"
   ]
  },
  {
   "cell_type": "code",
   "execution_count": 259,
   "id": "908bfb84",
   "metadata": {},
   "outputs": [],
   "source": [
    "import pickle\n",
    "\n",
    "def Star_prediction1(features):\n",
    "    \n",
    "    pickled_model = pickle.load(open('StarRestaurant_prediction1.pkl', 'rb'))\n",
    "    star_rate= str(round(list(pickled_model.predict([features]))[0]))\n",
    "    \n",
    "    return str(\"Rating may be \"  + star_rate)"
   ]
  },
  {
   "cell_type": "code",
   "execution_count": 260,
   "id": "c9764dbe",
   "metadata": {},
   "outputs": [],
   "source": [
    "import random\n",
    "test_features  = list(X_test.iloc[random.randint(0,1910),:])"
   ]
  },
  {
   "cell_type": "code",
   "execution_count": 261,
   "id": "b826b8a4",
   "metadata": {},
   "outputs": [
    {
     "name": "stderr",
     "output_type": "stream",
     "text": [
      "C:\\Users\\sivar\\anaconda3\\lib\\site-packages\\sklearn\\base.py:450: UserWarning: X does not have valid feature names, but LinearRegression was fitted with feature names\n",
      "  warnings.warn(\n"
     ]
    },
    {
     "data": {
      "text/plain": [
       "'Rating may be 2'"
      ]
     },
     "execution_count": 261,
     "metadata": {},
     "output_type": "execute_result"
    }
   ],
   "source": [
    "Star_prediction1(test_features)"
   ]
  },
  {
   "cell_type": "code",
   "execution_count": null,
   "id": "1d81d518",
   "metadata": {},
   "outputs": [],
   "source": []
  }
 ],
 "metadata": {
  "kernelspec": {
   "display_name": "Python 3 (ipykernel)",
   "language": "python",
   "name": "python3"
  },
  "language_info": {
   "codemirror_mode": {
    "name": "ipython",
    "version": 3
   },
   "file_extension": ".py",
   "mimetype": "text/x-python",
   "name": "python",
   "nbconvert_exporter": "python",
   "pygments_lexer": "ipython3",
   "version": "3.9.7"
  }
 },
 "nbformat": 4,
 "nbformat_minor": 5
}
